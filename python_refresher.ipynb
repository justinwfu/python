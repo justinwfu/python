{
 "cells": [
  {
   "cell_type": "code",
   "execution_count": 118,
   "metadata": {},
   "outputs": [],
   "source": [
    "import pandas as pd\n",
    "import sklearn\n",
    "import matplotlib.pyplot as plt\n",
    "import numpy as np"
   ]
  },
  {
   "cell_type": "markdown",
   "metadata": {},
   "source": [
    "# Goals\n",
    "1. load data\n",
    "1. explore/manipulate/describe df\n",
    "1. scatterplots/hist\n",
    "1. correlations\n",
    "1. feature eng\n",
    "1. model basics"
   ]
  },
  {
   "cell_type": "markdown",
   "metadata": {},
   "source": [
    "# model steps\n",
    "1. business question and hypotheses\n",
    "2. data qa\n",
    "- sql \n",
    "- pandas\n",
    "3. data exploration\n",
    "- sql\n",
    "- pandas\n",
    "- charts\n",
    "4. correlations\n",
    "5. encoding\n",
    "6. feature eng\n",
    "7. train test split\n",
    "8. regressor, pick evaluation metric\n",
    "9. pipeline, gridsearch\n",
    "10. model evaluation, re-run with param, feature changes"
   ]
  },
  {
   "cell_type": "markdown",
   "metadata": {},
   "source": [
    "# Load Data"
   ]
  },
  {
   "cell_type": "code",
   "execution_count": 105,
   "metadata": {},
   "outputs": [],
   "source": [
    "# load data\n",
    "df = pd.read_csv('test_data.csv')\n",
    "# 100x faster if specify datatypes\n",
    "# load first time\n",
    "# df.head()\n",
    "# get datatypes\n",
    "# dtypes dict to load faster {'name': dtype}"
   ]
  },
  {
   "cell_type": "code",
   "execution_count": 3,
   "metadata": {
    "scrolled": true
   },
   "outputs": [
    {
     "data": {
      "text/html": [
       "<div>\n",
       "<style scoped>\n",
       "    .dataframe tbody tr th:only-of-type {\n",
       "        vertical-align: middle;\n",
       "    }\n",
       "\n",
       "    .dataframe tbody tr th {\n",
       "        vertical-align: top;\n",
       "    }\n",
       "\n",
       "    .dataframe thead th {\n",
       "        text-align: right;\n",
       "    }\n",
       "</style>\n",
       "<table border=\"1\" class=\"dataframe\">\n",
       "  <thead>\n",
       "    <tr style=\"text-align: right;\">\n",
       "      <th></th>\n",
       "      <th>id</th>\n",
       "      <th>query</th>\n",
       "      <th>product_title</th>\n",
       "      <th>product_description</th>\n",
       "      <th>median_relevance</th>\n",
       "      <th>click_success</th>\n",
       "      <th>purch_success</th>\n",
       "      <th>relevance_variance</th>\n",
       "      <th>product_rating</th>\n",
       "    </tr>\n",
       "  </thead>\n",
       "  <tbody>\n",
       "    <tr>\n",
       "      <th>0</th>\n",
       "      <td>4</td>\n",
       "      <td>projector</td>\n",
       "      <td>ViewSonic Pro8200 DLP Multimedia Projector</td>\n",
       "      <td>NaN</td>\n",
       "      <td>4.414659</td>\n",
       "      <td>1</td>\n",
       "      <td>1</td>\n",
       "      <td>0.000967</td>\n",
       "      <td>3.821800</td>\n",
       "    </tr>\n",
       "    <tr>\n",
       "      <th>1</th>\n",
       "      <td>7</td>\n",
       "      <td>light bulb</td>\n",
       "      <td>Wintergreen Lighting Christmas LED Light Bulb ...</td>\n",
       "      <td>WTGR1011\\nFeatures\\nNickel base, 60,000 averag...</td>\n",
       "      <td>1.939185</td>\n",
       "      <td>0</td>\n",
       "      <td>0</td>\n",
       "      <td>0.140914</td>\n",
       "      <td>0.627153</td>\n",
       "    </tr>\n",
       "    <tr>\n",
       "      <th>2</th>\n",
       "      <td>8</td>\n",
       "      <td>oakley polarized radar</td>\n",
       "      <td>Oakley Sunglasses - Radar Path Polished Black/...</td>\n",
       "      <td>Durability and all-day comfort of lightweight,...</td>\n",
       "      <td>3.087276</td>\n",
       "      <td>1</td>\n",
       "      <td>1</td>\n",
       "      <td>0.198058</td>\n",
       "      <td>2.588703</td>\n",
       "    </tr>\n",
       "    <tr>\n",
       "      <th>3</th>\n",
       "      <td>10</td>\n",
       "      <td>boyfriend jeans</td>\n",
       "      <td>How To Make An American Quilt (DVD)</td>\n",
       "      <td>ITEM#: 2518897\\nDirector Jocelyn Moorhouse's f...</td>\n",
       "      <td>1.115320</td>\n",
       "      <td>0</td>\n",
       "      <td>0</td>\n",
       "      <td>0.173507</td>\n",
       "      <td>3.889947</td>\n",
       "    </tr>\n",
       "    <tr>\n",
       "      <th>4</th>\n",
       "      <td>13</td>\n",
       "      <td>screen protector samsung</td>\n",
       "      <td>ZAGG InvisibleShield Cell Phone Screen Protect...</td>\n",
       "      <td>Protect your most precious technology with the...</td>\n",
       "      <td>4.505012</td>\n",
       "      <td>1</td>\n",
       "      <td>1</td>\n",
       "      <td>1.046984</td>\n",
       "      <td>1.036992</td>\n",
       "    </tr>\n",
       "    <tr>\n",
       "      <th>...</th>\n",
       "      <td>...</td>\n",
       "      <td>...</td>\n",
       "      <td>...</td>\n",
       "      <td>...</td>\n",
       "      <td>...</td>\n",
       "      <td>...</td>\n",
       "      <td>...</td>\n",
       "      <td>...</td>\n",
       "      <td>...</td>\n",
       "    </tr>\n",
       "    <tr>\n",
       "      <th>20785</th>\n",
       "      <td>32662</td>\n",
       "      <td>hawaiian shirt</td>\n",
       "      <td>La Leela Likre Mens' Blue Tropical Printed Bea...</td>\n",
       "      <td>NaN</td>\n",
       "      <td>3.190835</td>\n",
       "      <td>0</td>\n",
       "      <td>0</td>\n",
       "      <td>0.027950</td>\n",
       "      <td>0.677359</td>\n",
       "    </tr>\n",
       "    <tr>\n",
       "      <th>20786</th>\n",
       "      <td>32664</td>\n",
       "      <td>bluesky gel nail polish</td>\n",
       "      <td>Sally Hansen Miracle Gel Nail Color, Red Eye 0...</td>\n",
       "      <td>Get salon-quality results with Miracle Gel Sal...</td>\n",
       "      <td>0.654658</td>\n",
       "      <td>0</td>\n",
       "      <td>0</td>\n",
       "      <td>0.022792</td>\n",
       "      <td>3.720549</td>\n",
       "    </tr>\n",
       "    <tr>\n",
       "      <th>20787</th>\n",
       "      <td>32665</td>\n",
       "      <td>seagate 2tb hard disk</td>\n",
       "      <td>Seagate Backup Plus STDU4000100 4 TB 3.5 Exter...</td>\n",
       "      <td>Founded in 1979, Seagate is the leading provid...</td>\n",
       "      <td>1.958592</td>\n",
       "      <td>0</td>\n",
       "      <td>0</td>\n",
       "      <td>0.357745</td>\n",
       "      <td>3.087500</td>\n",
       "    </tr>\n",
       "    <tr>\n",
       "      <th>20788</th>\n",
       "      <td>32667</td>\n",
       "      <td>storage ottoman</td>\n",
       "      <td>Chevron Storage Ottoman, Gray and White</td>\n",
       "      <td>Whether it be to hide away clutter in the room...</td>\n",
       "      <td>3.113347</td>\n",
       "      <td>0</td>\n",
       "      <td>0</td>\n",
       "      <td>0.169169</td>\n",
       "      <td>3.230875</td>\n",
       "    </tr>\n",
       "    <tr>\n",
       "      <th>20789</th>\n",
       "      <td>32670</td>\n",
       "      <td>wreck it ralph</td>\n",
       "      <td>Wreck-It Ralph (Original Score)</td>\n",
       "      <td>The team behind Disney's Wreck-It Ralph, the t...</td>\n",
       "      <td>3.168701</td>\n",
       "      <td>1</td>\n",
       "      <td>0</td>\n",
       "      <td>0.922059</td>\n",
       "      <td>3.632932</td>\n",
       "    </tr>\n",
       "  </tbody>\n",
       "</table>\n",
       "<p>20790 rows × 9 columns</p>\n",
       "</div>"
      ],
      "text/plain": [
       "          id                     query  \\\n",
       "0          4                 projector   \n",
       "1          7                light bulb   \n",
       "2          8    oakley polarized radar   \n",
       "3         10           boyfriend jeans   \n",
       "4         13  screen protector samsung   \n",
       "...      ...                       ...   \n",
       "20785  32662            hawaiian shirt   \n",
       "20786  32664   bluesky gel nail polish   \n",
       "20787  32665     seagate 2tb hard disk   \n",
       "20788  32667           storage ottoman   \n",
       "20789  32670            wreck it ralph   \n",
       "\n",
       "                                           product_title  \\\n",
       "0             ViewSonic Pro8200 DLP Multimedia Projector   \n",
       "1      Wintergreen Lighting Christmas LED Light Bulb ...   \n",
       "2      Oakley Sunglasses - Radar Path Polished Black/...   \n",
       "3                    How To Make An American Quilt (DVD)   \n",
       "4      ZAGG InvisibleShield Cell Phone Screen Protect...   \n",
       "...                                                  ...   \n",
       "20785  La Leela Likre Mens' Blue Tropical Printed Bea...   \n",
       "20786  Sally Hansen Miracle Gel Nail Color, Red Eye 0...   \n",
       "20787  Seagate Backup Plus STDU4000100 4 TB 3.5 Exter...   \n",
       "20788            Chevron Storage Ottoman, Gray and White   \n",
       "20789                    Wreck-It Ralph (Original Score)   \n",
       "\n",
       "                                     product_description  median_relevance  \\\n",
       "0                                                    NaN          4.414659   \n",
       "1      WTGR1011\\nFeatures\\nNickel base, 60,000 averag...          1.939185   \n",
       "2      Durability and all-day comfort of lightweight,...          3.087276   \n",
       "3      ITEM#: 2518897\\nDirector Jocelyn Moorhouse's f...          1.115320   \n",
       "4      Protect your most precious technology with the...          4.505012   \n",
       "...                                                  ...               ...   \n",
       "20785                                                NaN          3.190835   \n",
       "20786  Get salon-quality results with Miracle Gel Sal...          0.654658   \n",
       "20787  Founded in 1979, Seagate is the leading provid...          1.958592   \n",
       "20788  Whether it be to hide away clutter in the room...          3.113347   \n",
       "20789  The team behind Disney's Wreck-It Ralph, the t...          3.168701   \n",
       "\n",
       "       click_success  purch_success  relevance_variance  product_rating  \n",
       "0                  1              1            0.000967        3.821800  \n",
       "1                  0              0            0.140914        0.627153  \n",
       "2                  1              1            0.198058        2.588703  \n",
       "3                  0              0            0.173507        3.889947  \n",
       "4                  1              1            1.046984        1.036992  \n",
       "...              ...            ...                 ...             ...  \n",
       "20785              0              0            0.027950        0.677359  \n",
       "20786              0              0            0.022792        3.720549  \n",
       "20787              0              0            0.357745        3.087500  \n",
       "20788              0              0            0.169169        3.230875  \n",
       "20789              1              0            0.922059        3.632932  \n",
       "\n",
       "[20790 rows x 9 columns]"
      ]
     },
     "execution_count": 3,
     "metadata": {},
     "output_type": "execute_result"
    }
   ],
   "source": [
    "df"
   ]
  },
  {
   "cell_type": "code",
   "execution_count": 12,
   "metadata": {},
   "outputs": [
    {
     "data": {
      "text/html": [
       "<div>\n",
       "<style scoped>\n",
       "    .dataframe tbody tr th:only-of-type {\n",
       "        vertical-align: middle;\n",
       "    }\n",
       "\n",
       "    .dataframe tbody tr th {\n",
       "        vertical-align: top;\n",
       "    }\n",
       "\n",
       "    .dataframe thead th {\n",
       "        text-align: right;\n",
       "    }\n",
       "</style>\n",
       "<table border=\"1\" class=\"dataframe\">\n",
       "  <thead>\n",
       "    <tr style=\"text-align: right;\">\n",
       "      <th></th>\n",
       "      <th>id</th>\n",
       "      <th>query</th>\n",
       "      <th>product_title</th>\n",
       "      <th>product_description</th>\n",
       "      <th>median_relevance</th>\n",
       "      <th>click_success</th>\n",
       "      <th>purch_success</th>\n",
       "      <th>relevance_variance</th>\n",
       "      <th>product_rating</th>\n",
       "    </tr>\n",
       "  </thead>\n",
       "  <tbody>\n",
       "    <tr>\n",
       "      <th>0</th>\n",
       "      <td>4</td>\n",
       "      <td>projector</td>\n",
       "      <td>ViewSonic Pro8200 DLP Multimedia Projector</td>\n",
       "      <td>NaN</td>\n",
       "      <td>4.414659</td>\n",
       "      <td>1</td>\n",
       "      <td>1</td>\n",
       "      <td>0.000967</td>\n",
       "      <td>3.821800</td>\n",
       "    </tr>\n",
       "    <tr>\n",
       "      <th>1</th>\n",
       "      <td>7</td>\n",
       "      <td>light bulb</td>\n",
       "      <td>Wintergreen Lighting Christmas LED Light Bulb ...</td>\n",
       "      <td>WTGR1011\\nFeatures\\nNickel base, 60,000 averag...</td>\n",
       "      <td>1.939185</td>\n",
       "      <td>0</td>\n",
       "      <td>0</td>\n",
       "      <td>0.140914</td>\n",
       "      <td>0.627153</td>\n",
       "    </tr>\n",
       "    <tr>\n",
       "      <th>2</th>\n",
       "      <td>8</td>\n",
       "      <td>oakley polarized radar</td>\n",
       "      <td>Oakley Sunglasses - Radar Path Polished Black/...</td>\n",
       "      <td>Durability and all-day comfort of lightweight,...</td>\n",
       "      <td>3.087276</td>\n",
       "      <td>1</td>\n",
       "      <td>1</td>\n",
       "      <td>0.198058</td>\n",
       "      <td>2.588703</td>\n",
       "    </tr>\n",
       "    <tr>\n",
       "      <th>3</th>\n",
       "      <td>10</td>\n",
       "      <td>boyfriend jeans</td>\n",
       "      <td>How To Make An American Quilt (DVD)</td>\n",
       "      <td>ITEM#: 2518897\\nDirector Jocelyn Moorhouse's f...</td>\n",
       "      <td>1.115320</td>\n",
       "      <td>0</td>\n",
       "      <td>0</td>\n",
       "      <td>0.173507</td>\n",
       "      <td>3.889947</td>\n",
       "    </tr>\n",
       "    <tr>\n",
       "      <th>4</th>\n",
       "      <td>13</td>\n",
       "      <td>screen protector samsung</td>\n",
       "      <td>ZAGG InvisibleShield Cell Phone Screen Protect...</td>\n",
       "      <td>Protect your most precious technology with the...</td>\n",
       "      <td>4.505012</td>\n",
       "      <td>1</td>\n",
       "      <td>1</td>\n",
       "      <td>1.046984</td>\n",
       "      <td>1.036992</td>\n",
       "    </tr>\n",
       "  </tbody>\n",
       "</table>\n",
       "</div>"
      ],
      "text/plain": [
       "   id                     query  \\\n",
       "0   4                 projector   \n",
       "1   7                light bulb   \n",
       "2   8    oakley polarized radar   \n",
       "3  10           boyfriend jeans   \n",
       "4  13  screen protector samsung   \n",
       "\n",
       "                                       product_title  \\\n",
       "0         ViewSonic Pro8200 DLP Multimedia Projector   \n",
       "1  Wintergreen Lighting Christmas LED Light Bulb ...   \n",
       "2  Oakley Sunglasses - Radar Path Polished Black/...   \n",
       "3                How To Make An American Quilt (DVD)   \n",
       "4  ZAGG InvisibleShield Cell Phone Screen Protect...   \n",
       "\n",
       "                                 product_description  median_relevance  \\\n",
       "0                                                NaN          4.414659   \n",
       "1  WTGR1011\\nFeatures\\nNickel base, 60,000 averag...          1.939185   \n",
       "2  Durability and all-day comfort of lightweight,...          3.087276   \n",
       "3  ITEM#: 2518897\\nDirector Jocelyn Moorhouse's f...          1.115320   \n",
       "4  Protect your most precious technology with the...          4.505012   \n",
       "\n",
       "   click_success  purch_success  relevance_variance  product_rating  \n",
       "0              1              1            0.000967        3.821800  \n",
       "1              0              0            0.140914        0.627153  \n",
       "2              1              1            0.198058        2.588703  \n",
       "3              0              0            0.173507        3.889947  \n",
       "4              1              1            1.046984        1.036992  "
      ]
     },
     "execution_count": 12,
     "metadata": {},
     "output_type": "execute_result"
    }
   ],
   "source": [
    "df.head()"
   ]
  },
  {
   "cell_type": "code",
   "execution_count": 8,
   "metadata": {},
   "outputs": [
    {
     "data": {
      "text/plain": [
       "0    3.821800\n",
       "1    0.627153\n",
       "2    2.588703\n",
       "3    3.889947\n",
       "4    1.036992\n",
       "Name: product_rating, dtype: float64"
      ]
     },
     "execution_count": 8,
     "metadata": {},
     "output_type": "execute_result"
    }
   ],
   "source": [
    "# only 1 column --> df to series\n",
    "# type(df['product_rating'].head())\n",
    "# series will have different methods\n",
    "# series ~= col (1d)\n",
    "# pandas df\n",
    "# df == collection of series\n",
    "df['product_rating'].head()"
   ]
  },
  {
   "cell_type": "code",
   "execution_count": 15,
   "metadata": {},
   "outputs": [
    {
     "data": {
      "text/plain": [
       "(20790, 9)"
      ]
     },
     "execution_count": 15,
     "metadata": {},
     "output_type": "execute_result"
    }
   ],
   "source": [
    "# df['product_rating'].dimensions()\n",
    "df.shape"
   ]
  },
  {
   "cell_type": "code",
   "execution_count": 16,
   "metadata": {},
   "outputs": [],
   "source": [
    "# get the descriptive stats for df\n",
    "# scatter plot\n",
    "# histogram"
   ]
  },
  {
   "cell_type": "markdown",
   "metadata": {},
   "source": [
    "# descr stats"
   ]
  },
  {
   "cell_type": "code",
   "execution_count": 17,
   "metadata": {},
   "outputs": [
    {
     "data": {
      "text/html": [
       "<div>\n",
       "<style scoped>\n",
       "    .dataframe tbody tr th:only-of-type {\n",
       "        vertical-align: middle;\n",
       "    }\n",
       "\n",
       "    .dataframe tbody tr th {\n",
       "        vertical-align: top;\n",
       "    }\n",
       "\n",
       "    .dataframe thead th {\n",
       "        text-align: right;\n",
       "    }\n",
       "</style>\n",
       "<table border=\"1\" class=\"dataframe\">\n",
       "  <thead>\n",
       "    <tr style=\"text-align: right;\">\n",
       "      <th></th>\n",
       "      <th>id</th>\n",
       "      <th>median_relevance</th>\n",
       "      <th>click_success</th>\n",
       "      <th>purch_success</th>\n",
       "      <th>relevance_variance</th>\n",
       "      <th>product_rating</th>\n",
       "    </tr>\n",
       "  </thead>\n",
       "  <tbody>\n",
       "    <tr>\n",
       "      <th>count</th>\n",
       "      <td>20790.000000</td>\n",
       "      <td>20790.000000</td>\n",
       "      <td>20790.000000</td>\n",
       "      <td>20790.000000</td>\n",
       "      <td>20790.000000</td>\n",
       "      <td>20790.000000</td>\n",
       "    </tr>\n",
       "    <tr>\n",
       "      <th>mean</th>\n",
       "      <td>16335.645551</td>\n",
       "      <td>2.697612</td>\n",
       "      <td>0.577537</td>\n",
       "      <td>0.390717</td>\n",
       "      <td>0.329137</td>\n",
       "      <td>3.016524</td>\n",
       "    </tr>\n",
       "    <tr>\n",
       "      <th>std</th>\n",
       "      <td>9431.237016</td>\n",
       "      <td>0.986142</td>\n",
       "      <td>0.493963</td>\n",
       "      <td>0.487923</td>\n",
       "      <td>0.328607</td>\n",
       "      <td>0.998977</td>\n",
       "    </tr>\n",
       "    <tr>\n",
       "      <th>min</th>\n",
       "      <td>3.000000</td>\n",
       "      <td>0.000000</td>\n",
       "      <td>0.000000</td>\n",
       "      <td>0.000000</td>\n",
       "      <td>0.000013</td>\n",
       "      <td>0.095885</td>\n",
       "    </tr>\n",
       "    <tr>\n",
       "      <th>25%</th>\n",
       "      <td>8167.000000</td>\n",
       "      <td>2.036946</td>\n",
       "      <td>0.000000</td>\n",
       "      <td>0.000000</td>\n",
       "      <td>0.094317</td>\n",
       "      <td>2.295748</td>\n",
       "    </tr>\n",
       "    <tr>\n",
       "      <th>50%</th>\n",
       "      <td>16337.000000</td>\n",
       "      <td>2.851657</td>\n",
       "      <td>1.000000</td>\n",
       "      <td>0.000000</td>\n",
       "      <td>0.225596</td>\n",
       "      <td>3.094117</td>\n",
       "    </tr>\n",
       "    <tr>\n",
       "      <th>75%</th>\n",
       "      <td>24500.750000</td>\n",
       "      <td>3.328521</td>\n",
       "      <td>1.000000</td>\n",
       "      <td>1.000000</td>\n",
       "      <td>0.455361</td>\n",
       "      <td>3.801540</td>\n",
       "    </tr>\n",
       "    <tr>\n",
       "      <th>max</th>\n",
       "      <td>32670.000000</td>\n",
       "      <td>5.000000</td>\n",
       "      <td>1.000000</td>\n",
       "      <td>1.000000</td>\n",
       "      <td>3.132477</td>\n",
       "      <td>4.991039</td>\n",
       "    </tr>\n",
       "  </tbody>\n",
       "</table>\n",
       "</div>"
      ],
      "text/plain": [
       "                 id  median_relevance  click_success  purch_success  \\\n",
       "count  20790.000000      20790.000000   20790.000000   20790.000000   \n",
       "mean   16335.645551          2.697612       0.577537       0.390717   \n",
       "std     9431.237016          0.986142       0.493963       0.487923   \n",
       "min        3.000000          0.000000       0.000000       0.000000   \n",
       "25%     8167.000000          2.036946       0.000000       0.000000   \n",
       "50%    16337.000000          2.851657       1.000000       0.000000   \n",
       "75%    24500.750000          3.328521       1.000000       1.000000   \n",
       "max    32670.000000          5.000000       1.000000       1.000000   \n",
       "\n",
       "       relevance_variance  product_rating  \n",
       "count        20790.000000    20790.000000  \n",
       "mean             0.329137        3.016524  \n",
       "std              0.328607        0.998977  \n",
       "min              0.000013        0.095885  \n",
       "25%              0.094317        2.295748  \n",
       "50%              0.225596        3.094117  \n",
       "75%              0.455361        3.801540  \n",
       "max              3.132477        4.991039  "
      ]
     },
     "execution_count": 17,
     "metadata": {},
     "output_type": "execute_result"
    }
   ],
   "source": [
    "#df.describe()"
   ]
  },
  {
   "cell_type": "code",
   "execution_count": 23,
   "metadata": {},
   "outputs": [
    {
     "data": {
      "text/html": [
       "<div>\n",
       "<style scoped>\n",
       "    .dataframe tbody tr th:only-of-type {\n",
       "        vertical-align: middle;\n",
       "    }\n",
       "\n",
       "    .dataframe tbody tr th {\n",
       "        vertical-align: top;\n",
       "    }\n",
       "\n",
       "    .dataframe thead th {\n",
       "        text-align: right;\n",
       "    }\n",
       "</style>\n",
       "<table border=\"1\" class=\"dataframe\">\n",
       "  <thead>\n",
       "    <tr style=\"text-align: right;\">\n",
       "      <th></th>\n",
       "      <th>id</th>\n",
       "      <th>query</th>\n",
       "      <th>product_title</th>\n",
       "      <th>product_description</th>\n",
       "      <th>median_relevance</th>\n",
       "      <th>click_success</th>\n",
       "      <th>purch_success</th>\n",
       "      <th>relevance_variance</th>\n",
       "      <th>product_rating</th>\n",
       "    </tr>\n",
       "  </thead>\n",
       "  <tbody>\n",
       "    <tr>\n",
       "      <th>0</th>\n",
       "      <td>False</td>\n",
       "      <td>False</td>\n",
       "      <td>False</td>\n",
       "      <td>True</td>\n",
       "      <td>False</td>\n",
       "      <td>False</td>\n",
       "      <td>False</td>\n",
       "      <td>False</td>\n",
       "      <td>False</td>\n",
       "    </tr>\n",
       "    <tr>\n",
       "      <th>1</th>\n",
       "      <td>False</td>\n",
       "      <td>False</td>\n",
       "      <td>False</td>\n",
       "      <td>False</td>\n",
       "      <td>False</td>\n",
       "      <td>False</td>\n",
       "      <td>False</td>\n",
       "      <td>False</td>\n",
       "      <td>False</td>\n",
       "    </tr>\n",
       "    <tr>\n",
       "      <th>2</th>\n",
       "      <td>False</td>\n",
       "      <td>False</td>\n",
       "      <td>False</td>\n",
       "      <td>False</td>\n",
       "      <td>False</td>\n",
       "      <td>False</td>\n",
       "      <td>False</td>\n",
       "      <td>False</td>\n",
       "      <td>False</td>\n",
       "    </tr>\n",
       "    <tr>\n",
       "      <th>3</th>\n",
       "      <td>False</td>\n",
       "      <td>False</td>\n",
       "      <td>False</td>\n",
       "      <td>False</td>\n",
       "      <td>False</td>\n",
       "      <td>False</td>\n",
       "      <td>False</td>\n",
       "      <td>False</td>\n",
       "      <td>False</td>\n",
       "    </tr>\n",
       "    <tr>\n",
       "      <th>4</th>\n",
       "      <td>False</td>\n",
       "      <td>False</td>\n",
       "      <td>False</td>\n",
       "      <td>False</td>\n",
       "      <td>False</td>\n",
       "      <td>False</td>\n",
       "      <td>False</td>\n",
       "      <td>False</td>\n",
       "      <td>False</td>\n",
       "    </tr>\n",
       "    <tr>\n",
       "      <th>...</th>\n",
       "      <td>...</td>\n",
       "      <td>...</td>\n",
       "      <td>...</td>\n",
       "      <td>...</td>\n",
       "      <td>...</td>\n",
       "      <td>...</td>\n",
       "      <td>...</td>\n",
       "      <td>...</td>\n",
       "      <td>...</td>\n",
       "    </tr>\n",
       "    <tr>\n",
       "      <th>20785</th>\n",
       "      <td>False</td>\n",
       "      <td>False</td>\n",
       "      <td>False</td>\n",
       "      <td>True</td>\n",
       "      <td>False</td>\n",
       "      <td>False</td>\n",
       "      <td>False</td>\n",
       "      <td>False</td>\n",
       "      <td>False</td>\n",
       "    </tr>\n",
       "    <tr>\n",
       "      <th>20786</th>\n",
       "      <td>False</td>\n",
       "      <td>False</td>\n",
       "      <td>False</td>\n",
       "      <td>False</td>\n",
       "      <td>False</td>\n",
       "      <td>False</td>\n",
       "      <td>False</td>\n",
       "      <td>False</td>\n",
       "      <td>False</td>\n",
       "    </tr>\n",
       "    <tr>\n",
       "      <th>20787</th>\n",
       "      <td>False</td>\n",
       "      <td>False</td>\n",
       "      <td>False</td>\n",
       "      <td>False</td>\n",
       "      <td>False</td>\n",
       "      <td>False</td>\n",
       "      <td>False</td>\n",
       "      <td>False</td>\n",
       "      <td>False</td>\n",
       "    </tr>\n",
       "    <tr>\n",
       "      <th>20788</th>\n",
       "      <td>False</td>\n",
       "      <td>False</td>\n",
       "      <td>False</td>\n",
       "      <td>False</td>\n",
       "      <td>False</td>\n",
       "      <td>False</td>\n",
       "      <td>False</td>\n",
       "      <td>False</td>\n",
       "      <td>False</td>\n",
       "    </tr>\n",
       "    <tr>\n",
       "      <th>20789</th>\n",
       "      <td>False</td>\n",
       "      <td>False</td>\n",
       "      <td>False</td>\n",
       "      <td>False</td>\n",
       "      <td>False</td>\n",
       "      <td>False</td>\n",
       "      <td>False</td>\n",
       "      <td>False</td>\n",
       "      <td>False</td>\n",
       "    </tr>\n",
       "  </tbody>\n",
       "</table>\n",
       "<p>20790 rows × 9 columns</p>\n",
       "</div>"
      ],
      "text/plain": [
       "          id  query  product_title  product_description  median_relevance  \\\n",
       "0      False  False          False                 True             False   \n",
       "1      False  False          False                False             False   \n",
       "2      False  False          False                False             False   \n",
       "3      False  False          False                False             False   \n",
       "4      False  False          False                False             False   \n",
       "...      ...    ...            ...                  ...               ...   \n",
       "20785  False  False          False                 True             False   \n",
       "20786  False  False          False                False             False   \n",
       "20787  False  False          False                False             False   \n",
       "20788  False  False          False                False             False   \n",
       "20789  False  False          False                False             False   \n",
       "\n",
       "       click_success  purch_success  relevance_variance  product_rating  \n",
       "0              False          False               False           False  \n",
       "1              False          False               False           False  \n",
       "2              False          False               False           False  \n",
       "3              False          False               False           False  \n",
       "4              False          False               False           False  \n",
       "...              ...            ...                 ...             ...  \n",
       "20785          False          False               False           False  \n",
       "20786          False          False               False           False  \n",
       "20787          False          False               False           False  \n",
       "20788          False          False               False           False  \n",
       "20789          False          False               False           False  \n",
       "\n",
       "[20790 rows x 9 columns]"
      ]
     },
     "execution_count": 23,
     "metadata": {},
     "output_type": "execute_result"
    }
   ],
   "source": [
    "#df level -- can i just check all at same time?\n",
    "# identity matrix filter\n",
    "df.isnull()"
   ]
  },
  {
   "cell_type": "code",
   "execution_count": 26,
   "metadata": {},
   "outputs": [
    {
     "data": {
      "text/html": [
       "<div>\n",
       "<style scoped>\n",
       "    .dataframe tbody tr th:only-of-type {\n",
       "        vertical-align: middle;\n",
       "    }\n",
       "\n",
       "    .dataframe tbody tr th {\n",
       "        vertical-align: top;\n",
       "    }\n",
       "\n",
       "    .dataframe thead th {\n",
       "        text-align: right;\n",
       "    }\n",
       "</style>\n",
       "<table border=\"1\" class=\"dataframe\">\n",
       "  <thead>\n",
       "    <tr style=\"text-align: right;\">\n",
       "      <th></th>\n",
       "      <th>id</th>\n",
       "      <th>query</th>\n",
       "    </tr>\n",
       "  </thead>\n",
       "  <tbody>\n",
       "    <tr>\n",
       "      <th>0</th>\n",
       "      <td>False</td>\n",
       "      <td>False</td>\n",
       "    </tr>\n",
       "    <tr>\n",
       "      <th>1</th>\n",
       "      <td>False</td>\n",
       "      <td>False</td>\n",
       "    </tr>\n",
       "    <tr>\n",
       "      <th>2</th>\n",
       "      <td>False</td>\n",
       "      <td>False</td>\n",
       "    </tr>\n",
       "    <tr>\n",
       "      <th>3</th>\n",
       "      <td>False</td>\n",
       "      <td>False</td>\n",
       "    </tr>\n",
       "    <tr>\n",
       "      <th>4</th>\n",
       "      <td>False</td>\n",
       "      <td>False</td>\n",
       "    </tr>\n",
       "    <tr>\n",
       "      <th>...</th>\n",
       "      <td>...</td>\n",
       "      <td>...</td>\n",
       "    </tr>\n",
       "    <tr>\n",
       "      <th>20785</th>\n",
       "      <td>False</td>\n",
       "      <td>False</td>\n",
       "    </tr>\n",
       "    <tr>\n",
       "      <th>20786</th>\n",
       "      <td>False</td>\n",
       "      <td>False</td>\n",
       "    </tr>\n",
       "    <tr>\n",
       "      <th>20787</th>\n",
       "      <td>False</td>\n",
       "      <td>False</td>\n",
       "    </tr>\n",
       "    <tr>\n",
       "      <th>20788</th>\n",
       "      <td>False</td>\n",
       "      <td>False</td>\n",
       "    </tr>\n",
       "    <tr>\n",
       "      <th>20789</th>\n",
       "      <td>False</td>\n",
       "      <td>False</td>\n",
       "    </tr>\n",
       "  </tbody>\n",
       "</table>\n",
       "<p>20790 rows × 2 columns</p>\n",
       "</div>"
      ],
      "text/plain": [
       "          id  query\n",
       "0      False  False\n",
       "1      False  False\n",
       "2      False  False\n",
       "3      False  False\n",
       "4      False  False\n",
       "...      ...    ...\n",
       "20785  False  False\n",
       "20786  False  False\n",
       "20787  False  False\n",
       "20788  False  False\n",
       "20789  False  False\n",
       "\n",
       "[20790 rows x 2 columns]"
      ]
     },
     "execution_count": 26,
     "metadata": {},
     "output_type": "execute_result"
    }
   ],
   "source": [
    "#create df filter\n",
    "# isnull df\n",
    "# can apply this filter to original df\n",
    "df.isnull()[['id', 'query']]"
   ]
  },
  {
   "cell_type": "code",
   "execution_count": 46,
   "metadata": {
    "scrolled": true
   },
   "outputs": [
    {
     "data": {
      "text/plain": [
       "0        False\n",
       "1         True\n",
       "2         True\n",
       "3         True\n",
       "4         True\n",
       "         ...  \n",
       "20785    False\n",
       "20786     True\n",
       "20787     True\n",
       "20788     True\n",
       "20789     True\n",
       "Name: product_description, Length: 20790, dtype: bool"
      ]
     },
     "execution_count": 46,
     "metadata": {},
     "output_type": "execute_result"
    }
   ],
   "source": [
    "# get only rows w/ a null value\n",
    "# apply filter to original df\n",
    "# just brackets == get columns\n",
    "# brackets with parents filtering\n",
    "# df[(filter)]\n",
    "# df[] select col based on actual columns names\n",
    "\n",
    "# filter -- for every row what do i do?\n",
    "# filter on a series must be length of df\n",
    "# -- 1 value per row -- string != series\n",
    "# so manipulate df and get a series\n",
    "\n",
    "# start w/ just 1 filter\n",
    "# df.notnull()[['product_description']]\n",
    "df['product_description'].notnull()"
   ]
  },
  {
   "cell_type": "code",
   "execution_count": 54,
   "metadata": {},
   "outputs": [
    {
     "data": {
      "text/html": [
       "<div>\n",
       "<style scoped>\n",
       "    .dataframe tbody tr th:only-of-type {\n",
       "        vertical-align: middle;\n",
       "    }\n",
       "\n",
       "    .dataframe tbody tr th {\n",
       "        vertical-align: top;\n",
       "    }\n",
       "\n",
       "    .dataframe thead th {\n",
       "        text-align: right;\n",
       "    }\n",
       "</style>\n",
       "<table border=\"1\" class=\"dataframe\">\n",
       "  <thead>\n",
       "    <tr style=\"text-align: right;\">\n",
       "      <th></th>\n",
       "      <th>id</th>\n",
       "      <th>query</th>\n",
       "      <th>product_title</th>\n",
       "      <th>product_description</th>\n",
       "      <th>median_relevance</th>\n",
       "      <th>click_success</th>\n",
       "      <th>purch_success</th>\n",
       "      <th>relevance_variance</th>\n",
       "      <th>product_rating</th>\n",
       "    </tr>\n",
       "  </thead>\n",
       "  <tbody>\n",
       "    <tr>\n",
       "      <th>6463</th>\n",
       "      <td>3</td>\n",
       "      <td>electric griddle</td>\n",
       "      <td>Star-Max 48 in Electric Griddle</td>\n",
       "      <td>NaN</td>\n",
       "      <td>3.355419</td>\n",
       "      <td>1</td>\n",
       "      <td>0</td>\n",
       "      <td>0.708907</td>\n",
       "      <td>4.555760</td>\n",
       "    </tr>\n",
       "    <tr>\n",
       "      <th>0</th>\n",
       "      <td>4</td>\n",
       "      <td>projector</td>\n",
       "      <td>ViewSonic Pro8200 DLP Multimedia Projector</td>\n",
       "      <td>NaN</td>\n",
       "      <td>4.414659</td>\n",
       "      <td>1</td>\n",
       "      <td>1</td>\n",
       "      <td>0.000967</td>\n",
       "      <td>3.821800</td>\n",
       "    </tr>\n",
       "    <tr>\n",
       "      <th>6464</th>\n",
       "      <td>6</td>\n",
       "      <td>phillips coffee maker</td>\n",
       "      <td>Philips SENSEO HD7810 WHITE Single Serve Pod C...</td>\n",
       "      <td>NaN</td>\n",
       "      <td>3.533850</td>\n",
       "      <td>1</td>\n",
       "      <td>1</td>\n",
       "      <td>0.348257</td>\n",
       "      <td>3.125811</td>\n",
       "    </tr>\n",
       "    <tr>\n",
       "      <th>6470</th>\n",
       "      <td>22</td>\n",
       "      <td>headphones earbuds</td>\n",
       "      <td>Motorola Flexible EarBud Receiver - headphone</td>\n",
       "      <td>NaN</td>\n",
       "      <td>3.061181</td>\n",
       "      <td>1</td>\n",
       "      <td>0</td>\n",
       "      <td>0.286174</td>\n",
       "      <td>3.091192</td>\n",
       "    </tr>\n",
       "    <tr>\n",
       "      <th>6476</th>\n",
       "      <td>36</td>\n",
       "      <td>memory foam pillow</td>\n",
       "      <td>InRoom Designs Memory Foam Pillow</td>\n",
       "      <td>NaN</td>\n",
       "      <td>3.046341</td>\n",
       "      <td>1</td>\n",
       "      <td>0</td>\n",
       "      <td>0.314189</td>\n",
       "      <td>2.461383</td>\n",
       "    </tr>\n",
       "    <tr>\n",
       "      <th>...</th>\n",
       "      <td>...</td>\n",
       "      <td>...</td>\n",
       "      <td>...</td>\n",
       "      <td>...</td>\n",
       "      <td>...</td>\n",
       "      <td>...</td>\n",
       "      <td>...</td>\n",
       "      <td>...</td>\n",
       "      <td>...</td>\n",
       "    </tr>\n",
       "    <tr>\n",
       "      <th>6457</th>\n",
       "      <td>32640</td>\n",
       "      <td>converse high tops</td>\n",
       "      <td>Toddler Converse Chuck Taylor High Top Sneaker...</td>\n",
       "      <td>NaN</td>\n",
       "      <td>4.143418</td>\n",
       "      <td>1</td>\n",
       "      <td>1</td>\n",
       "      <td>0.831732</td>\n",
       "      <td>3.644594</td>\n",
       "    </tr>\n",
       "    <tr>\n",
       "      <th>20781</th>\n",
       "      <td>32651</td>\n",
       "      <td>16 gb memory card</td>\n",
       "      <td>Sony 16GB SDHC Class 10 Memory Card</td>\n",
       "      <td>NaN</td>\n",
       "      <td>3.499483</td>\n",
       "      <td>1</td>\n",
       "      <td>1</td>\n",
       "      <td>0.150303</td>\n",
       "      <td>3.432472</td>\n",
       "    </tr>\n",
       "    <tr>\n",
       "      <th>20782</th>\n",
       "      <td>32654</td>\n",
       "      <td>wired xbox 360 controller</td>\n",
       "      <td>Green light Glow Wired Game Remote Controller ...</td>\n",
       "      <td>NaN</td>\n",
       "      <td>2.829157</td>\n",
       "      <td>1</td>\n",
       "      <td>1</td>\n",
       "      <td>1.223567</td>\n",
       "      <td>1.326378</td>\n",
       "    </tr>\n",
       "    <tr>\n",
       "      <th>20785</th>\n",
       "      <td>32662</td>\n",
       "      <td>hawaiian shirt</td>\n",
       "      <td>La Leela Likre Mens' Blue Tropical Printed Bea...</td>\n",
       "      <td>NaN</td>\n",
       "      <td>3.190835</td>\n",
       "      <td>0</td>\n",
       "      <td>0</td>\n",
       "      <td>0.027950</td>\n",
       "      <td>0.677359</td>\n",
       "    </tr>\n",
       "    <tr>\n",
       "      <th>6462</th>\n",
       "      <td>32668</td>\n",
       "      <td>polar heart rate monitor</td>\n",
       "      <td>Polar F6 Black Coal Heart Rate Monitor Mens Pi...</td>\n",
       "      <td>NaN</td>\n",
       "      <td>3.973988</td>\n",
       "      <td>1</td>\n",
       "      <td>0</td>\n",
       "      <td>0.481092</td>\n",
       "      <td>3.311096</td>\n",
       "    </tr>\n",
       "  </tbody>\n",
       "</table>\n",
       "<p>5073 rows × 9 columns</p>\n",
       "</div>"
      ],
      "text/plain": [
       "          id                      query  \\\n",
       "6463       3           electric griddle   \n",
       "0          4                  projector   \n",
       "6464       6      phillips coffee maker   \n",
       "6470      22         headphones earbuds   \n",
       "6476      36         memory foam pillow   \n",
       "...      ...                        ...   \n",
       "6457   32640         converse high tops   \n",
       "20781  32651          16 gb memory card   \n",
       "20782  32654  wired xbox 360 controller   \n",
       "20785  32662             hawaiian shirt   \n",
       "6462   32668   polar heart rate monitor   \n",
       "\n",
       "                                           product_title product_description  \\\n",
       "6463                     Star-Max 48 in Electric Griddle                 NaN   \n",
       "0             ViewSonic Pro8200 DLP Multimedia Projector                 NaN   \n",
       "6464   Philips SENSEO HD7810 WHITE Single Serve Pod C...                 NaN   \n",
       "6470       Motorola Flexible EarBud Receiver - headphone                 NaN   \n",
       "6476                   InRoom Designs Memory Foam Pillow                 NaN   \n",
       "...                                                  ...                 ...   \n",
       "6457   Toddler Converse Chuck Taylor High Top Sneaker...                 NaN   \n",
       "20781                Sony 16GB SDHC Class 10 Memory Card                 NaN   \n",
       "20782  Green light Glow Wired Game Remote Controller ...                 NaN   \n",
       "20785  La Leela Likre Mens' Blue Tropical Printed Bea...                 NaN   \n",
       "6462   Polar F6 Black Coal Heart Rate Monitor Mens Pi...                 NaN   \n",
       "\n",
       "       median_relevance  click_success  purch_success  relevance_variance  \\\n",
       "6463           3.355419              1              0            0.708907   \n",
       "0              4.414659              1              1            0.000967   \n",
       "6464           3.533850              1              1            0.348257   \n",
       "6470           3.061181              1              0            0.286174   \n",
       "6476           3.046341              1              0            0.314189   \n",
       "...                 ...            ...            ...                 ...   \n",
       "6457           4.143418              1              1            0.831732   \n",
       "20781          3.499483              1              1            0.150303   \n",
       "20782          2.829157              1              1            1.223567   \n",
       "20785          3.190835              0              0            0.027950   \n",
       "6462           3.973988              1              0            0.481092   \n",
       "\n",
       "       product_rating  \n",
       "6463         4.555760  \n",
       "0            3.821800  \n",
       "6464         3.125811  \n",
       "6470         3.091192  \n",
       "6476         2.461383  \n",
       "...               ...  \n",
       "6457         3.644594  \n",
       "20781        3.432472  \n",
       "20782        1.326378  \n",
       "20785        0.677359  \n",
       "6462         3.311096  \n",
       "\n",
       "[5073 rows x 9 columns]"
      ]
     },
     "execution_count": 54,
     "metadata": {},
     "output_type": "execute_result"
    }
   ],
   "source": [
    "# filter df based on series of booleans\n",
    "# just use the true\n",
    "df[df['product_description'].isnull()].sort_values('id')"
   ]
  },
  {
   "cell_type": "code",
   "execution_count": 53,
   "metadata": {},
   "outputs": [
    {
     "data": {
      "text/html": [
       "<div>\n",
       "<style scoped>\n",
       "    .dataframe tbody tr th:only-of-type {\n",
       "        vertical-align: middle;\n",
       "    }\n",
       "\n",
       "    .dataframe tbody tr th {\n",
       "        vertical-align: top;\n",
       "    }\n",
       "\n",
       "    .dataframe thead th {\n",
       "        text-align: right;\n",
       "    }\n",
       "</style>\n",
       "<table border=\"1\" class=\"dataframe\">\n",
       "  <thead>\n",
       "    <tr style=\"text-align: right;\">\n",
       "      <th></th>\n",
       "      <th>id</th>\n",
       "      <th>query</th>\n",
       "      <th>product_title</th>\n",
       "      <th>product_description</th>\n",
       "      <th>median_relevance</th>\n",
       "      <th>click_success</th>\n",
       "      <th>purch_success</th>\n",
       "      <th>relevance_variance</th>\n",
       "      <th>product_rating</th>\n",
       "    </tr>\n",
       "  </thead>\n",
       "  <tbody>\n",
       "    <tr>\n",
       "      <th>1</th>\n",
       "      <td>7</td>\n",
       "      <td>light bulb</td>\n",
       "      <td>Wintergreen Lighting Christmas LED Light Bulb ...</td>\n",
       "      <td>WTGR1011\\nFeatures\\nNickel base, 60,000 averag...</td>\n",
       "      <td>1.939185</td>\n",
       "      <td>0</td>\n",
       "      <td>0</td>\n",
       "      <td>0.140914</td>\n",
       "      <td>0.627153</td>\n",
       "    </tr>\n",
       "    <tr>\n",
       "      <th>2</th>\n",
       "      <td>8</td>\n",
       "      <td>oakley polarized radar</td>\n",
       "      <td>Oakley Sunglasses - Radar Path Polished Black/...</td>\n",
       "      <td>Durability and all-day comfort of lightweight,...</td>\n",
       "      <td>3.087276</td>\n",
       "      <td>1</td>\n",
       "      <td>1</td>\n",
       "      <td>0.198058</td>\n",
       "      <td>2.588703</td>\n",
       "    </tr>\n",
       "    <tr>\n",
       "      <th>6465</th>\n",
       "      <td>9</td>\n",
       "      <td>san francisco 49ers</td>\n",
       "      <td>2013 San Francisco 49ers Clock</td>\n",
       "      <td>A 2013 San Francisco 49ers clock is the ultima...</td>\n",
       "      <td>1.879869</td>\n",
       "      <td>0</td>\n",
       "      <td>0</td>\n",
       "      <td>0.308495</td>\n",
       "      <td>1.759055</td>\n",
       "    </tr>\n",
       "    <tr>\n",
       "      <th>3</th>\n",
       "      <td>10</td>\n",
       "      <td>boyfriend jeans</td>\n",
       "      <td>How To Make An American Quilt (DVD)</td>\n",
       "      <td>ITEM#: 2518897\\nDirector Jocelyn Moorhouse's f...</td>\n",
       "      <td>1.115320</td>\n",
       "      <td>0</td>\n",
       "      <td>0</td>\n",
       "      <td>0.173507</td>\n",
       "      <td>3.889947</td>\n",
       "    </tr>\n",
       "    <tr>\n",
       "      <th>6466</th>\n",
       "      <td>11</td>\n",
       "      <td>aveeno shampoo</td>\n",
       "      <td>AVEENO       10.5FLOZ NRSH SHINE SH</td>\n",
       "      <td>Water, Ammonium Lauryl Sulfate, Dimethicone, S...</td>\n",
       "      <td>1.733546</td>\n",
       "      <td>0</td>\n",
       "      <td>0</td>\n",
       "      <td>0.206133</td>\n",
       "      <td>4.358133</td>\n",
       "    </tr>\n",
       "    <tr>\n",
       "      <th>...</th>\n",
       "      <td>...</td>\n",
       "      <td>...</td>\n",
       "      <td>...</td>\n",
       "      <td>...</td>\n",
       "      <td>...</td>\n",
       "      <td>...</td>\n",
       "      <td>...</td>\n",
       "      <td>...</td>\n",
       "      <td>...</td>\n",
       "    </tr>\n",
       "    <tr>\n",
       "      <th>6461</th>\n",
       "      <td>32663</td>\n",
       "      <td>playstation vita system</td>\n",
       "      <td>MLB 15: The Show (PlayStation Vita)</td>\n",
       "      <td>An essential part of every fan’s season and Th...</td>\n",
       "      <td>2.256562</td>\n",
       "      <td>0</td>\n",
       "      <td>0</td>\n",
       "      <td>0.032402</td>\n",
       "      <td>4.060585</td>\n",
       "    </tr>\n",
       "    <tr>\n",
       "      <th>20786</th>\n",
       "      <td>32664</td>\n",
       "      <td>bluesky gel nail polish</td>\n",
       "      <td>Sally Hansen Miracle Gel Nail Color, Red Eye 0...</td>\n",
       "      <td>Get salon-quality results with Miracle Gel Sal...</td>\n",
       "      <td>0.654658</td>\n",
       "      <td>0</td>\n",
       "      <td>0</td>\n",
       "      <td>0.022792</td>\n",
       "      <td>3.720549</td>\n",
       "    </tr>\n",
       "    <tr>\n",
       "      <th>20787</th>\n",
       "      <td>32665</td>\n",
       "      <td>seagate 2tb hard disk</td>\n",
       "      <td>Seagate Backup Plus STDU4000100 4 TB 3.5 Exter...</td>\n",
       "      <td>Founded in 1979, Seagate is the leading provid...</td>\n",
       "      <td>1.958592</td>\n",
       "      <td>0</td>\n",
       "      <td>0</td>\n",
       "      <td>0.357745</td>\n",
       "      <td>3.087500</td>\n",
       "    </tr>\n",
       "    <tr>\n",
       "      <th>20788</th>\n",
       "      <td>32667</td>\n",
       "      <td>storage ottoman</td>\n",
       "      <td>Chevron Storage Ottoman, Gray and White</td>\n",
       "      <td>Whether it be to hide away clutter in the room...</td>\n",
       "      <td>3.113347</td>\n",
       "      <td>0</td>\n",
       "      <td>0</td>\n",
       "      <td>0.169169</td>\n",
       "      <td>3.230875</td>\n",
       "    </tr>\n",
       "    <tr>\n",
       "      <th>20789</th>\n",
       "      <td>32670</td>\n",
       "      <td>wreck it ralph</td>\n",
       "      <td>Wreck-It Ralph (Original Score)</td>\n",
       "      <td>The team behind Disney's Wreck-It Ralph, the t...</td>\n",
       "      <td>3.168701</td>\n",
       "      <td>1</td>\n",
       "      <td>0</td>\n",
       "      <td>0.922059</td>\n",
       "      <td>3.632932</td>\n",
       "    </tr>\n",
       "  </tbody>\n",
       "</table>\n",
       "<p>15717 rows × 9 columns</p>\n",
       "</div>"
      ],
      "text/plain": [
       "          id                    query  \\\n",
       "1          7               light bulb   \n",
       "2          8   oakley polarized radar   \n",
       "6465       9      san francisco 49ers   \n",
       "3         10          boyfriend jeans   \n",
       "6466      11           aveeno shampoo   \n",
       "...      ...                      ...   \n",
       "6461   32663  playstation vita system   \n",
       "20786  32664  bluesky gel nail polish   \n",
       "20787  32665    seagate 2tb hard disk   \n",
       "20788  32667          storage ottoman   \n",
       "20789  32670           wreck it ralph   \n",
       "\n",
       "                                           product_title  \\\n",
       "1      Wintergreen Lighting Christmas LED Light Bulb ...   \n",
       "2      Oakley Sunglasses - Radar Path Polished Black/...   \n",
       "6465                      2013 San Francisco 49ers Clock   \n",
       "3                    How To Make An American Quilt (DVD)   \n",
       "6466                 AVEENO       10.5FLOZ NRSH SHINE SH   \n",
       "...                                                  ...   \n",
       "6461                 MLB 15: The Show (PlayStation Vita)   \n",
       "20786  Sally Hansen Miracle Gel Nail Color, Red Eye 0...   \n",
       "20787  Seagate Backup Plus STDU4000100 4 TB 3.5 Exter...   \n",
       "20788            Chevron Storage Ottoman, Gray and White   \n",
       "20789                    Wreck-It Ralph (Original Score)   \n",
       "\n",
       "                                     product_description  median_relevance  \\\n",
       "1      WTGR1011\\nFeatures\\nNickel base, 60,000 averag...          1.939185   \n",
       "2      Durability and all-day comfort of lightweight,...          3.087276   \n",
       "6465   A 2013 San Francisco 49ers clock is the ultima...          1.879869   \n",
       "3      ITEM#: 2518897\\nDirector Jocelyn Moorhouse's f...          1.115320   \n",
       "6466   Water, Ammonium Lauryl Sulfate, Dimethicone, S...          1.733546   \n",
       "...                                                  ...               ...   \n",
       "6461   An essential part of every fan’s season and Th...          2.256562   \n",
       "20786  Get salon-quality results with Miracle Gel Sal...          0.654658   \n",
       "20787  Founded in 1979, Seagate is the leading provid...          1.958592   \n",
       "20788  Whether it be to hide away clutter in the room...          3.113347   \n",
       "20789  The team behind Disney's Wreck-It Ralph, the t...          3.168701   \n",
       "\n",
       "       click_success  purch_success  relevance_variance  product_rating  \n",
       "1                  0              0            0.140914        0.627153  \n",
       "2                  1              1            0.198058        2.588703  \n",
       "6465               0              0            0.308495        1.759055  \n",
       "3                  0              0            0.173507        3.889947  \n",
       "6466               0              0            0.206133        4.358133  \n",
       "...              ...            ...                 ...             ...  \n",
       "6461               0              0            0.032402        4.060585  \n",
       "20786              0              0            0.022792        3.720549  \n",
       "20787              0              0            0.357745        3.087500  \n",
       "20788              0              0            0.169169        3.230875  \n",
       "20789              1              0            0.922059        3.632932  \n",
       "\n",
       "[15717 rows x 9 columns]"
      ]
     },
     "execution_count": 53,
     "metadata": {},
     "output_type": "execute_result"
    }
   ],
   "source": [
    "df[df['product_description'].notnull()].sort_values('id')"
   ]
  },
  {
   "cell_type": "code",
   "execution_count": 55,
   "metadata": {},
   "outputs": [
    {
     "data": {
      "text/html": [
       "<div>\n",
       "<style scoped>\n",
       "    .dataframe tbody tr th:only-of-type {\n",
       "        vertical-align: middle;\n",
       "    }\n",
       "\n",
       "    .dataframe tbody tr th {\n",
       "        vertical-align: top;\n",
       "    }\n",
       "\n",
       "    .dataframe thead th {\n",
       "        text-align: right;\n",
       "    }\n",
       "</style>\n",
       "<table border=\"1\" class=\"dataframe\">\n",
       "  <thead>\n",
       "    <tr style=\"text-align: right;\">\n",
       "      <th></th>\n",
       "      <th>id</th>\n",
       "      <th>query</th>\n",
       "      <th>product_title</th>\n",
       "      <th>product_description</th>\n",
       "      <th>median_relevance</th>\n",
       "      <th>click_success</th>\n",
       "      <th>purch_success</th>\n",
       "      <th>relevance_variance</th>\n",
       "      <th>product_rating</th>\n",
       "    </tr>\n",
       "  </thead>\n",
       "  <tbody>\n",
       "    <tr>\n",
       "      <th>6463</th>\n",
       "      <td>3</td>\n",
       "      <td>electric griddle</td>\n",
       "      <td>Star-Max 48 in Electric Griddle</td>\n",
       "      <td>NaN</td>\n",
       "      <td>3.355419</td>\n",
       "      <td>1</td>\n",
       "      <td>0</td>\n",
       "      <td>0.708907</td>\n",
       "      <td>4.555760</td>\n",
       "    </tr>\n",
       "    <tr>\n",
       "      <th>0</th>\n",
       "      <td>4</td>\n",
       "      <td>projector</td>\n",
       "      <td>ViewSonic Pro8200 DLP Multimedia Projector</td>\n",
       "      <td>NaN</td>\n",
       "      <td>4.414659</td>\n",
       "      <td>1</td>\n",
       "      <td>1</td>\n",
       "      <td>0.000967</td>\n",
       "      <td>3.821800</td>\n",
       "    </tr>\n",
       "    <tr>\n",
       "      <th>6464</th>\n",
       "      <td>6</td>\n",
       "      <td>phillips coffee maker</td>\n",
       "      <td>Philips SENSEO HD7810 WHITE Single Serve Pod C...</td>\n",
       "      <td>NaN</td>\n",
       "      <td>3.533850</td>\n",
       "      <td>1</td>\n",
       "      <td>1</td>\n",
       "      <td>0.348257</td>\n",
       "      <td>3.125811</td>\n",
       "    </tr>\n",
       "    <tr>\n",
       "      <th>1</th>\n",
       "      <td>7</td>\n",
       "      <td>light bulb</td>\n",
       "      <td>Wintergreen Lighting Christmas LED Light Bulb ...</td>\n",
       "      <td>WTGR1011\\nFeatures\\nNickel base, 60,000 averag...</td>\n",
       "      <td>1.939185</td>\n",
       "      <td>0</td>\n",
       "      <td>0</td>\n",
       "      <td>0.140914</td>\n",
       "      <td>0.627153</td>\n",
       "    </tr>\n",
       "    <tr>\n",
       "      <th>2</th>\n",
       "      <td>8</td>\n",
       "      <td>oakley polarized radar</td>\n",
       "      <td>Oakley Sunglasses - Radar Path Polished Black/...</td>\n",
       "      <td>Durability and all-day comfort of lightweight,...</td>\n",
       "      <td>3.087276</td>\n",
       "      <td>1</td>\n",
       "      <td>1</td>\n",
       "      <td>0.198058</td>\n",
       "      <td>2.588703</td>\n",
       "    </tr>\n",
       "    <tr>\n",
       "      <th>6465</th>\n",
       "      <td>9</td>\n",
       "      <td>san francisco 49ers</td>\n",
       "      <td>2013 San Francisco 49ers Clock</td>\n",
       "      <td>A 2013 San Francisco 49ers clock is the ultima...</td>\n",
       "      <td>1.879869</td>\n",
       "      <td>0</td>\n",
       "      <td>0</td>\n",
       "      <td>0.308495</td>\n",
       "      <td>1.759055</td>\n",
       "    </tr>\n",
       "    <tr>\n",
       "      <th>3</th>\n",
       "      <td>10</td>\n",
       "      <td>boyfriend jeans</td>\n",
       "      <td>How To Make An American Quilt (DVD)</td>\n",
       "      <td>ITEM#: 2518897\\nDirector Jocelyn Moorhouse's f...</td>\n",
       "      <td>1.115320</td>\n",
       "      <td>0</td>\n",
       "      <td>0</td>\n",
       "      <td>0.173507</td>\n",
       "      <td>3.889947</td>\n",
       "    </tr>\n",
       "    <tr>\n",
       "      <th>6466</th>\n",
       "      <td>11</td>\n",
       "      <td>aveeno shampoo</td>\n",
       "      <td>AVEENO       10.5FLOZ NRSH SHINE SH</td>\n",
       "      <td>Water, Ammonium Lauryl Sulfate, Dimethicone, S...</td>\n",
       "      <td>1.733546</td>\n",
       "      <td>0</td>\n",
       "      <td>0</td>\n",
       "      <td>0.206133</td>\n",
       "      <td>4.358133</td>\n",
       "    </tr>\n",
       "    <tr>\n",
       "      <th>4</th>\n",
       "      <td>13</td>\n",
       "      <td>screen protector samsung</td>\n",
       "      <td>ZAGG InvisibleShield Cell Phone Screen Protect...</td>\n",
       "      <td>Protect your most precious technology with the...</td>\n",
       "      <td>4.505012</td>\n",
       "      <td>1</td>\n",
       "      <td>1</td>\n",
       "      <td>1.046984</td>\n",
       "      <td>1.036992</td>\n",
       "    </tr>\n",
       "    <tr>\n",
       "      <th>6467</th>\n",
       "      <td>14</td>\n",
       "      <td>table clock</td>\n",
       "      <td>Classy Wood Table Clock</td>\n",
       "      <td>Watch out for this antique wood table clock wh...</td>\n",
       "      <td>2.840815</td>\n",
       "      <td>1</td>\n",
       "      <td>1</td>\n",
       "      <td>0.124887</td>\n",
       "      <td>4.457892</td>\n",
       "    </tr>\n",
       "  </tbody>\n",
       "</table>\n",
       "</div>"
      ],
      "text/plain": [
       "      id                     query  \\\n",
       "6463   3          electric griddle   \n",
       "0      4                 projector   \n",
       "6464   6     phillips coffee maker   \n",
       "1      7                light bulb   \n",
       "2      8    oakley polarized radar   \n",
       "6465   9       san francisco 49ers   \n",
       "3     10           boyfriend jeans   \n",
       "6466  11            aveeno shampoo   \n",
       "4     13  screen protector samsung   \n",
       "6467  14               table clock   \n",
       "\n",
       "                                          product_title  \\\n",
       "6463                    Star-Max 48 in Electric Griddle   \n",
       "0            ViewSonic Pro8200 DLP Multimedia Projector   \n",
       "6464  Philips SENSEO HD7810 WHITE Single Serve Pod C...   \n",
       "1     Wintergreen Lighting Christmas LED Light Bulb ...   \n",
       "2     Oakley Sunglasses - Radar Path Polished Black/...   \n",
       "6465                     2013 San Francisco 49ers Clock   \n",
       "3                   How To Make An American Quilt (DVD)   \n",
       "6466                AVEENO       10.5FLOZ NRSH SHINE SH   \n",
       "4     ZAGG InvisibleShield Cell Phone Screen Protect...   \n",
       "6467                            Classy Wood Table Clock   \n",
       "\n",
       "                                    product_description  median_relevance  \\\n",
       "6463                                                NaN          3.355419   \n",
       "0                                                   NaN          4.414659   \n",
       "6464                                                NaN          3.533850   \n",
       "1     WTGR1011\\nFeatures\\nNickel base, 60,000 averag...          1.939185   \n",
       "2     Durability and all-day comfort of lightweight,...          3.087276   \n",
       "6465  A 2013 San Francisco 49ers clock is the ultima...          1.879869   \n",
       "3     ITEM#: 2518897\\nDirector Jocelyn Moorhouse's f...          1.115320   \n",
       "6466  Water, Ammonium Lauryl Sulfate, Dimethicone, S...          1.733546   \n",
       "4     Protect your most precious technology with the...          4.505012   \n",
       "6467  Watch out for this antique wood table clock wh...          2.840815   \n",
       "\n",
       "      click_success  purch_success  relevance_variance  product_rating  \n",
       "6463              1              0            0.708907        4.555760  \n",
       "0                 1              1            0.000967        3.821800  \n",
       "6464              1              1            0.348257        3.125811  \n",
       "1                 0              0            0.140914        0.627153  \n",
       "2                 1              1            0.198058        2.588703  \n",
       "6465              0              0            0.308495        1.759055  \n",
       "3                 0              0            0.173507        3.889947  \n",
       "6466              0              0            0.206133        4.358133  \n",
       "4                 1              1            1.046984        1.036992  \n",
       "6467              1              1            0.124887        4.457892  "
      ]
     },
     "execution_count": 55,
     "metadata": {},
     "output_type": "execute_result"
    }
   ],
   "source": [
    "df.sort_values('id').head(10)"
   ]
  },
  {
   "cell_type": "code",
   "execution_count": 56,
   "metadata": {},
   "outputs": [
    {
     "ename": "SyntaxError",
     "evalue": "invalid syntax (<ipython-input-56-1378e69e0d46>, line 1)",
     "output_type": "error",
     "traceback": [
      "\u001b[0;36m  File \u001b[0;32m\"<ipython-input-56-1378e69e0d46>\"\u001b[0;36m, line \u001b[0;32m1\u001b[0m\n\u001b[0;31m    df.apply(lambda x: 1 if pd.isnull(x.product_description))\u001b[0m\n\u001b[0m                                                            ^\u001b[0m\n\u001b[0;31mSyntaxError\u001b[0m\u001b[0;31m:\u001b[0m invalid syntax\n"
     ]
    }
   ],
   "source": [
    "# axis = 0 --> column name dont do this\n",
    "# axis = 1 --> do per row\n",
    "df.apply(lambda x: 1 if pd.isnull(x.product_description) else 0, axis=1)"
   ]
  },
  {
   "cell_type": "code",
   "execution_count": 61,
   "metadata": {},
   "outputs": [],
   "source": [
    "def rows_are_series(prod_desc_series):\n",
    "    print(type(prod_desc_series))\n",
    "#     if df."
   ]
  },
  {
   "cell_type": "code",
   "execution_count": 63,
   "metadata": {},
   "outputs": [],
   "source": [
    "# df.apply(rows_are_series, axis=1)"
   ]
  },
  {
   "cell_type": "code",
   "execution_count": 64,
   "metadata": {},
   "outputs": [],
   "source": [
    "def prod_desc_null(series):\n",
    "    if pd.isnull(series.product_description):\n",
    "        return 1\n",
    "    else:\n",
    "        return 0\n",
    "#     if df."
   ]
  },
  {
   "cell_type": "code",
   "execution_count": 65,
   "metadata": {},
   "outputs": [
    {
     "data": {
      "text/plain": [
       "0        1\n",
       "1        0\n",
       "2        0\n",
       "3        0\n",
       "4        0\n",
       "        ..\n",
       "20785    1\n",
       "20786    0\n",
       "20787    0\n",
       "20788    0\n",
       "20789    0\n",
       "Length: 20790, dtype: int64"
      ]
     },
     "execution_count": 65,
     "metadata": {},
     "output_type": "execute_result"
    }
   ],
   "source": [
    "df.apply(prod_desc_null, axis=1)"
   ]
  },
  {
   "cell_type": "code",
   "execution_count": 66,
   "metadata": {},
   "outputs": [],
   "source": [
    "df['prod_desc_null'] = df.apply(prod_desc_null, axis=1)"
   ]
  },
  {
   "cell_type": "code",
   "execution_count": 70,
   "metadata": {},
   "outputs": [
    {
     "data": {
      "text/html": [
       "<div>\n",
       "<style scoped>\n",
       "    .dataframe tbody tr th:only-of-type {\n",
       "        vertical-align: middle;\n",
       "    }\n",
       "\n",
       "    .dataframe tbody tr th {\n",
       "        vertical-align: top;\n",
       "    }\n",
       "\n",
       "    .dataframe thead th {\n",
       "        text-align: right;\n",
       "    }\n",
       "</style>\n",
       "<table border=\"1\" class=\"dataframe\">\n",
       "  <thead>\n",
       "    <tr style=\"text-align: right;\">\n",
       "      <th></th>\n",
       "      <th>id</th>\n",
       "      <th>query</th>\n",
       "      <th>product_title</th>\n",
       "      <th>product_description</th>\n",
       "      <th>median_relevance</th>\n",
       "      <th>click_success</th>\n",
       "      <th>purch_success</th>\n",
       "      <th>relevance_variance</th>\n",
       "      <th>product_rating</th>\n",
       "      <th>prod_desc_null</th>\n",
       "    </tr>\n",
       "  </thead>\n",
       "  <tbody>\n",
       "    <tr>\n",
       "      <th>0</th>\n",
       "      <td>4</td>\n",
       "      <td>projector</td>\n",
       "      <td>ViewSonic Pro8200 DLP Multimedia Projector</td>\n",
       "      <td>NaN</td>\n",
       "      <td>4.414659</td>\n",
       "      <td>1</td>\n",
       "      <td>1</td>\n",
       "      <td>0.000967</td>\n",
       "      <td>3.821800</td>\n",
       "      <td>1</td>\n",
       "    </tr>\n",
       "    <tr>\n",
       "      <th>1</th>\n",
       "      <td>7</td>\n",
       "      <td>light bulb</td>\n",
       "      <td>Wintergreen Lighting Christmas LED Light Bulb ...</td>\n",
       "      <td>WTGR1011\\nFeatures\\nNickel base, 60,000 averag...</td>\n",
       "      <td>1.939185</td>\n",
       "      <td>0</td>\n",
       "      <td>0</td>\n",
       "      <td>0.140914</td>\n",
       "      <td>0.627153</td>\n",
       "      <td>0</td>\n",
       "    </tr>\n",
       "  </tbody>\n",
       "</table>\n",
       "</div>"
      ],
      "text/plain": [
       "   id       query                                      product_title  \\\n",
       "0   4   projector         ViewSonic Pro8200 DLP Multimedia Projector   \n",
       "1   7  light bulb  Wintergreen Lighting Christmas LED Light Bulb ...   \n",
       "\n",
       "                                 product_description  median_relevance  \\\n",
       "0                                                NaN          4.414659   \n",
       "1  WTGR1011\\nFeatures\\nNickel base, 60,000 averag...          1.939185   \n",
       "\n",
       "   click_success  purch_success  relevance_variance  product_rating  \\\n",
       "0              1              1            0.000967        3.821800   \n",
       "1              0              0            0.140914        0.627153   \n",
       "\n",
       "   prod_desc_null  \n",
       "0               1  \n",
       "1               0  "
      ]
     },
     "execution_count": 70,
     "metadata": {},
     "output_type": "execute_result"
    }
   ],
   "source": [
    "df.head(2)"
   ]
  },
  {
   "cell_type": "code",
   "execution_count": 75,
   "metadata": {},
   "outputs": [
    {
     "data": {
      "text/plain": [
       "0        False\n",
       "1        False\n",
       "2        False\n",
       "3        False\n",
       "4        False\n",
       "         ...  \n",
       "20785    False\n",
       "20786    False\n",
       "20787    False\n",
       "20788    False\n",
       "20789    False\n",
       "Name: purch_success, Length: 20790, dtype: bool"
      ]
     },
     "execution_count": 75,
     "metadata": {},
     "output_type": "execute_result"
    }
   ],
   "source": [
    "df['purch_success'].isna()"
   ]
  },
  {
   "cell_type": "code",
   "execution_count": 82,
   "metadata": {},
   "outputs": [
    {
     "data": {
      "text/html": [
       "<div>\n",
       "<style scoped>\n",
       "    .dataframe tbody tr th:only-of-type {\n",
       "        vertical-align: middle;\n",
       "    }\n",
       "\n",
       "    .dataframe tbody tr th {\n",
       "        vertical-align: top;\n",
       "    }\n",
       "\n",
       "    .dataframe thead th {\n",
       "        text-align: right;\n",
       "    }\n",
       "</style>\n",
       "<table border=\"1\" class=\"dataframe\">\n",
       "  <thead>\n",
       "    <tr style=\"text-align: right;\">\n",
       "      <th></th>\n",
       "      <th>id</th>\n",
       "      <th>query</th>\n",
       "      <th>product_title</th>\n",
       "      <th>product_description</th>\n",
       "      <th>median_relevance</th>\n",
       "      <th>click_success</th>\n",
       "      <th>purch_success</th>\n",
       "      <th>relevance_variance</th>\n",
       "      <th>product_rating</th>\n",
       "      <th>prod_desc_null</th>\n",
       "    </tr>\n",
       "  </thead>\n",
       "  <tbody>\n",
       "  </tbody>\n",
       "</table>\n",
       "</div>"
      ],
      "text/plain": [
       "Empty DataFrame\n",
       "Columns: [id, query, product_title, product_description, median_relevance, click_success, purch_success, relevance_variance, product_rating, prod_desc_null]\n",
       "Index: []"
      ]
     },
     "execution_count": 82,
     "metadata": {},
     "output_type": "execute_result"
    }
   ],
   "source": [
    "# check if column is not a number\n",
    "df[df['purch_success'].isna()]"
   ]
  },
  {
   "cell_type": "code",
   "execution_count": 85,
   "metadata": {},
   "outputs": [],
   "source": [
    "# remove nan\n",
    "df_clean_purch_success = df[df['purch_success'].notna()]"
   ]
  },
  {
   "cell_type": "code",
   "execution_count": 87,
   "metadata": {},
   "outputs": [
    {
     "data": {
      "text/html": [
       "<div>\n",
       "<style scoped>\n",
       "    .dataframe tbody tr th:only-of-type {\n",
       "        vertical-align: middle;\n",
       "    }\n",
       "\n",
       "    .dataframe tbody tr th {\n",
       "        vertical-align: top;\n",
       "    }\n",
       "\n",
       "    .dataframe thead th {\n",
       "        text-align: right;\n",
       "    }\n",
       "</style>\n",
       "<table border=\"1\" class=\"dataframe\">\n",
       "  <thead>\n",
       "    <tr style=\"text-align: right;\">\n",
       "      <th></th>\n",
       "      <th>id</th>\n",
       "      <th>query</th>\n",
       "      <th>product_title</th>\n",
       "      <th>product_description</th>\n",
       "      <th>median_relevance</th>\n",
       "      <th>click_success</th>\n",
       "      <th>purch_success</th>\n",
       "      <th>relevance_variance</th>\n",
       "      <th>product_rating</th>\n",
       "      <th>prod_desc_null</th>\n",
       "    </tr>\n",
       "  </thead>\n",
       "  <tbody>\n",
       "    <tr>\n",
       "      <th>0</th>\n",
       "      <td>4</td>\n",
       "      <td>projector</td>\n",
       "      <td>ViewSonic Pro8200 DLP Multimedia Projector</td>\n",
       "      <td>NaN</td>\n",
       "      <td>4.414659</td>\n",
       "      <td>1</td>\n",
       "      <td>1</td>\n",
       "      <td>0.000967</td>\n",
       "      <td>3.821800</td>\n",
       "      <td>1</td>\n",
       "    </tr>\n",
       "    <tr>\n",
       "      <th>1</th>\n",
       "      <td>7</td>\n",
       "      <td>light bulb</td>\n",
       "      <td>Wintergreen Lighting Christmas LED Light Bulb ...</td>\n",
       "      <td>WTGR1011\\nFeatures\\nNickel base, 60,000 averag...</td>\n",
       "      <td>1.939185</td>\n",
       "      <td>0</td>\n",
       "      <td>0</td>\n",
       "      <td>0.140914</td>\n",
       "      <td>0.627153</td>\n",
       "      <td>0</td>\n",
       "    </tr>\n",
       "    <tr>\n",
       "      <th>2</th>\n",
       "      <td>8</td>\n",
       "      <td>oakley polarized radar</td>\n",
       "      <td>Oakley Sunglasses - Radar Path Polished Black/...</td>\n",
       "      <td>Durability and all-day comfort of lightweight,...</td>\n",
       "      <td>3.087276</td>\n",
       "      <td>1</td>\n",
       "      <td>1</td>\n",
       "      <td>0.198058</td>\n",
       "      <td>2.588703</td>\n",
       "      <td>0</td>\n",
       "    </tr>\n",
       "    <tr>\n",
       "      <th>3</th>\n",
       "      <td>10</td>\n",
       "      <td>boyfriend jeans</td>\n",
       "      <td>How To Make An American Quilt (DVD)</td>\n",
       "      <td>ITEM#: 2518897\\nDirector Jocelyn Moorhouse's f...</td>\n",
       "      <td>1.115320</td>\n",
       "      <td>0</td>\n",
       "      <td>0</td>\n",
       "      <td>0.173507</td>\n",
       "      <td>3.889947</td>\n",
       "      <td>0</td>\n",
       "    </tr>\n",
       "    <tr>\n",
       "      <th>4</th>\n",
       "      <td>13</td>\n",
       "      <td>screen protector samsung</td>\n",
       "      <td>ZAGG InvisibleShield Cell Phone Screen Protect...</td>\n",
       "      <td>Protect your most precious technology with the...</td>\n",
       "      <td>4.505012</td>\n",
       "      <td>1</td>\n",
       "      <td>1</td>\n",
       "      <td>1.046984</td>\n",
       "      <td>1.036992</td>\n",
       "      <td>0</td>\n",
       "    </tr>\n",
       "  </tbody>\n",
       "</table>\n",
       "</div>"
      ],
      "text/plain": [
       "   id                     query  \\\n",
       "0   4                 projector   \n",
       "1   7                light bulb   \n",
       "2   8    oakley polarized radar   \n",
       "3  10           boyfriend jeans   \n",
       "4  13  screen protector samsung   \n",
       "\n",
       "                                       product_title  \\\n",
       "0         ViewSonic Pro8200 DLP Multimedia Projector   \n",
       "1  Wintergreen Lighting Christmas LED Light Bulb ...   \n",
       "2  Oakley Sunglasses - Radar Path Polished Black/...   \n",
       "3                How To Make An American Quilt (DVD)   \n",
       "4  ZAGG InvisibleShield Cell Phone Screen Protect...   \n",
       "\n",
       "                                 product_description  median_relevance  \\\n",
       "0                                                NaN          4.414659   \n",
       "1  WTGR1011\\nFeatures\\nNickel base, 60,000 averag...          1.939185   \n",
       "2  Durability and all-day comfort of lightweight,...          3.087276   \n",
       "3  ITEM#: 2518897\\nDirector Jocelyn Moorhouse's f...          1.115320   \n",
       "4  Protect your most precious technology with the...          4.505012   \n",
       "\n",
       "   click_success  purch_success  relevance_variance  product_rating  \\\n",
       "0              1              1            0.000967        3.821800   \n",
       "1              0              0            0.140914        0.627153   \n",
       "2              1              1            0.198058        2.588703   \n",
       "3              0              0            0.173507        3.889947   \n",
       "4              1              1            1.046984        1.036992   \n",
       "\n",
       "   prod_desc_null  \n",
       "0               1  \n",
       "1               0  \n",
       "2               0  \n",
       "3               0  \n",
       "4               0  "
      ]
     },
     "execution_count": 87,
     "metadata": {},
     "output_type": "execute_result"
    }
   ],
   "source": [
    "df_clean_purch_success.head()"
   ]
  },
  {
   "cell_type": "code",
   "execution_count": 88,
   "metadata": {},
   "outputs": [
    {
     "data": {
      "text/html": [
       "<div>\n",
       "<style scoped>\n",
       "    .dataframe tbody tr th:only-of-type {\n",
       "        vertical-align: middle;\n",
       "    }\n",
       "\n",
       "    .dataframe tbody tr th {\n",
       "        vertical-align: top;\n",
       "    }\n",
       "\n",
       "    .dataframe thead th {\n",
       "        text-align: right;\n",
       "    }\n",
       "</style>\n",
       "<table border=\"1\" class=\"dataframe\">\n",
       "  <thead>\n",
       "    <tr style=\"text-align: right;\">\n",
       "      <th></th>\n",
       "      <th>id</th>\n",
       "      <th>median_relevance</th>\n",
       "      <th>click_success</th>\n",
       "      <th>purch_success</th>\n",
       "      <th>relevance_variance</th>\n",
       "      <th>product_rating</th>\n",
       "      <th>prod_desc_null</th>\n",
       "    </tr>\n",
       "  </thead>\n",
       "  <tbody>\n",
       "    <tr>\n",
       "      <th>count</th>\n",
       "      <td>20790.000000</td>\n",
       "      <td>20790.000000</td>\n",
       "      <td>20790.000000</td>\n",
       "      <td>20790.000000</td>\n",
       "      <td>20790.000000</td>\n",
       "      <td>20790.000000</td>\n",
       "      <td>20790.000000</td>\n",
       "    </tr>\n",
       "    <tr>\n",
       "      <th>mean</th>\n",
       "      <td>16335.645551</td>\n",
       "      <td>2.697612</td>\n",
       "      <td>0.577537</td>\n",
       "      <td>0.390717</td>\n",
       "      <td>0.329137</td>\n",
       "      <td>3.016524</td>\n",
       "      <td>0.244012</td>\n",
       "    </tr>\n",
       "    <tr>\n",
       "      <th>std</th>\n",
       "      <td>9431.237016</td>\n",
       "      <td>0.986142</td>\n",
       "      <td>0.493963</td>\n",
       "      <td>0.487923</td>\n",
       "      <td>0.328607</td>\n",
       "      <td>0.998977</td>\n",
       "      <td>0.429510</td>\n",
       "    </tr>\n",
       "    <tr>\n",
       "      <th>min</th>\n",
       "      <td>3.000000</td>\n",
       "      <td>0.000000</td>\n",
       "      <td>0.000000</td>\n",
       "      <td>0.000000</td>\n",
       "      <td>0.000013</td>\n",
       "      <td>0.095885</td>\n",
       "      <td>0.000000</td>\n",
       "    </tr>\n",
       "    <tr>\n",
       "      <th>25%</th>\n",
       "      <td>8167.000000</td>\n",
       "      <td>2.036946</td>\n",
       "      <td>0.000000</td>\n",
       "      <td>0.000000</td>\n",
       "      <td>0.094317</td>\n",
       "      <td>2.295748</td>\n",
       "      <td>0.000000</td>\n",
       "    </tr>\n",
       "    <tr>\n",
       "      <th>50%</th>\n",
       "      <td>16337.000000</td>\n",
       "      <td>2.851657</td>\n",
       "      <td>1.000000</td>\n",
       "      <td>0.000000</td>\n",
       "      <td>0.225596</td>\n",
       "      <td>3.094117</td>\n",
       "      <td>0.000000</td>\n",
       "    </tr>\n",
       "    <tr>\n",
       "      <th>75%</th>\n",
       "      <td>24500.750000</td>\n",
       "      <td>3.328521</td>\n",
       "      <td>1.000000</td>\n",
       "      <td>1.000000</td>\n",
       "      <td>0.455361</td>\n",
       "      <td>3.801540</td>\n",
       "      <td>0.000000</td>\n",
       "    </tr>\n",
       "    <tr>\n",
       "      <th>max</th>\n",
       "      <td>32670.000000</td>\n",
       "      <td>5.000000</td>\n",
       "      <td>1.000000</td>\n",
       "      <td>1.000000</td>\n",
       "      <td>3.132477</td>\n",
       "      <td>4.991039</td>\n",
       "      <td>1.000000</td>\n",
       "    </tr>\n",
       "  </tbody>\n",
       "</table>\n",
       "</div>"
      ],
      "text/plain": [
       "                 id  median_relevance  click_success  purch_success  \\\n",
       "count  20790.000000      20790.000000   20790.000000   20790.000000   \n",
       "mean   16335.645551          2.697612       0.577537       0.390717   \n",
       "std     9431.237016          0.986142       0.493963       0.487923   \n",
       "min        3.000000          0.000000       0.000000       0.000000   \n",
       "25%     8167.000000          2.036946       0.000000       0.000000   \n",
       "50%    16337.000000          2.851657       1.000000       0.000000   \n",
       "75%    24500.750000          3.328521       1.000000       1.000000   \n",
       "max    32670.000000          5.000000       1.000000       1.000000   \n",
       "\n",
       "       relevance_variance  product_rating  prod_desc_null  \n",
       "count        20790.000000    20790.000000    20790.000000  \n",
       "mean             0.329137        3.016524        0.244012  \n",
       "std              0.328607        0.998977        0.429510  \n",
       "min              0.000013        0.095885        0.000000  \n",
       "25%              0.094317        2.295748        0.000000  \n",
       "50%              0.225596        3.094117        0.000000  \n",
       "75%              0.455361        3.801540        0.000000  \n",
       "max              3.132477        4.991039        1.000000  "
      ]
     },
     "execution_count": 88,
     "metadata": {},
     "output_type": "execute_result"
    }
   ],
   "source": [
    "df.describe()"
   ]
  },
  {
   "cell_type": "code",
   "execution_count": 1,
   "metadata": {},
   "outputs": [],
   "source": [
    "# just count if null\n",
    "# df.apply(lambda x: if x.purch_success.isna then 1 else 0)"
   ]
  },
  {
   "cell_type": "code",
   "execution_count": 91,
   "metadata": {},
   "outputs": [
    {
     "data": {
      "text/plain": [
       "id                        0\n",
       "query                     0\n",
       "product_title             0\n",
       "product_description    5073\n",
       "median_relevance          0\n",
       "click_success             0\n",
       "purch_success             0\n",
       "relevance_variance        0\n",
       "product_rating            0\n",
       "prod_desc_null            0\n",
       "dtype: int64"
      ]
     },
     "execution_count": 91,
     "metadata": {},
     "output_type": "execute_result"
    }
   ],
   "source": [
    "df.isna().sum()"
   ]
  },
  {
   "cell_type": "code",
   "execution_count": 97,
   "metadata": {},
   "outputs": [
    {
     "data": {
      "text/plain": [
       "id                        0\n",
       "query                     0\n",
       "product_title             0\n",
       "product_description    5073\n",
       "median_relevance          0\n",
       "click_success             0\n",
       "purch_success             0\n",
       "relevance_variance        0\n",
       "product_rating            0\n",
       "prod_desc_null            0\n",
       "dtype: int64"
      ]
     },
     "execution_count": 97,
     "metadata": {},
     "output_type": "execute_result"
    }
   ],
   "source": [
    "df.isnull().sum()"
   ]
  },
  {
   "cell_type": "code",
   "execution_count": 98,
   "metadata": {},
   "outputs": [
    {
     "data": {
      "text/plain": [
       "id                     0.000000\n",
       "query                  0.000000\n",
       "product_title          0.000000\n",
       "product_description    0.244012\n",
       "median_relevance       0.000000\n",
       "click_success          0.000000\n",
       "purch_success          0.000000\n",
       "relevance_variance     0.000000\n",
       "product_rating         0.000000\n",
       "prod_desc_null         0.000000\n",
       "dtype: float64"
      ]
     },
     "execution_count": 98,
     "metadata": {},
     "output_type": "execute_result"
    }
   ],
   "source": [
    "df.isnull().mean()"
   ]
  },
  {
   "cell_type": "code",
   "execution_count": 99,
   "metadata": {},
   "outputs": [
    {
     "data": {
      "text/plain": [
       "id                     20790\n",
       "query                  20790\n",
       "product_title          20790\n",
       "product_description    15717\n",
       "median_relevance       20790\n",
       "click_success          20790\n",
       "purch_success          20790\n",
       "relevance_variance     20790\n",
       "product_rating         20790\n",
       "prod_desc_null         20790\n",
       "dtype: int64"
      ]
     },
     "execution_count": 99,
     "metadata": {},
     "output_type": "execute_result"
    }
   ],
   "source": [
    "df.notnull().sum()"
   ]
  },
  {
   "cell_type": "code",
   "execution_count": 38,
   "metadata": {},
   "outputs": [
    {
     "data": {
      "text/html": [
       "<div>\n",
       "<style scoped>\n",
       "    .dataframe tbody tr th:only-of-type {\n",
       "        vertical-align: middle;\n",
       "    }\n",
       "\n",
       "    .dataframe tbody tr th {\n",
       "        vertical-align: top;\n",
       "    }\n",
       "\n",
       "    .dataframe thead th {\n",
       "        text-align: right;\n",
       "    }\n",
       "</style>\n",
       "<table border=\"1\" class=\"dataframe\">\n",
       "  <thead>\n",
       "    <tr style=\"text-align: right;\">\n",
       "      <th></th>\n",
       "      <th>id</th>\n",
       "      <th>query</th>\n",
       "      <th>product_title</th>\n",
       "      <th>product_description</th>\n",
       "      <th>median_relevance</th>\n",
       "      <th>click_success</th>\n",
       "      <th>relevance_variance</th>\n",
       "      <th>product_rating</th>\n",
       "    </tr>\n",
       "    <tr>\n",
       "      <th>purch_success</th>\n",
       "      <th></th>\n",
       "      <th></th>\n",
       "      <th></th>\n",
       "      <th></th>\n",
       "      <th></th>\n",
       "      <th></th>\n",
       "      <th></th>\n",
       "      <th></th>\n",
       "    </tr>\n",
       "  </thead>\n",
       "  <tbody>\n",
       "    <tr>\n",
       "      <th>0</th>\n",
       "      <td>12667</td>\n",
       "      <td>12667</td>\n",
       "      <td>12667</td>\n",
       "      <td>9022</td>\n",
       "      <td>12667</td>\n",
       "      <td>12667</td>\n",
       "      <td>12667</td>\n",
       "      <td>12667</td>\n",
       "    </tr>\n",
       "    <tr>\n",
       "      <th>1</th>\n",
       "      <td>8123</td>\n",
       "      <td>8123</td>\n",
       "      <td>8123</td>\n",
       "      <td>6695</td>\n",
       "      <td>8123</td>\n",
       "      <td>8123</td>\n",
       "      <td>8123</td>\n",
       "      <td>8123</td>\n",
       "    </tr>\n",
       "  </tbody>\n",
       "</table>\n",
       "</div>"
      ],
      "text/plain": [
       "                  id  query  product_title  product_description  \\\n",
       "purch_success                                                     \n",
       "0              12667  12667          12667                 9022   \n",
       "1               8123   8123           8123                 6695   \n",
       "\n",
       "               median_relevance  click_success  relevance_variance  \\\n",
       "purch_success                                                        \n",
       "0                         12667          12667               12667   \n",
       "1                          8123           8123                8123   \n",
       "\n",
       "               product_rating  \n",
       "purch_success                  \n",
       "0                       12667  \n",
       "1                        8123  "
      ]
     },
     "execution_count": 38,
     "metadata": {},
     "output_type": "execute_result"
    }
   ],
   "source": [
    "# df.size\n",
    "# type(df.groupby('purch_success'))\n",
    "# df.groupby('purch_success').size()\n",
    "df.groupby('purch_success').count()"
   ]
  },
  {
   "cell_type": "code",
   "execution_count": null,
   "metadata": {},
   "outputs": [],
   "source": []
  },
  {
   "cell_type": "code",
   "execution_count": null,
   "metadata": {},
   "outputs": [],
   "source": [
    "# null becomes none in python -- only apply to text \n",
    "# nan are null for numerics \n",
    "# pandas automatically turns null numerics into nan"
   ]
  },
  {
   "cell_type": "markdown",
   "metadata": {},
   "source": [
    "# other data cleaning\n",
    "1. check null vs nan\n",
    "2. check mins/maxes\n",
    "3. check date ranges"
   ]
  },
  {
   "cell_type": "code",
   "execution_count": 77,
   "metadata": {},
   "outputs": [
    {
     "data": {
      "text/html": [
       "<div>\n",
       "<style scoped>\n",
       "    .dataframe tbody tr th:only-of-type {\n",
       "        vertical-align: middle;\n",
       "    }\n",
       "\n",
       "    .dataframe tbody tr th {\n",
       "        vertical-align: top;\n",
       "    }\n",
       "\n",
       "    .dataframe thead th {\n",
       "        text-align: right;\n",
       "    }\n",
       "</style>\n",
       "<table border=\"1\" class=\"dataframe\">\n",
       "  <thead>\n",
       "    <tr style=\"text-align: right;\">\n",
       "      <th></th>\n",
       "      <th>id</th>\n",
       "      <th>median_relevance</th>\n",
       "      <th>click_success</th>\n",
       "      <th>purch_success</th>\n",
       "      <th>relevance_variance</th>\n",
       "      <th>product_rating</th>\n",
       "      <th>prod_desc_null</th>\n",
       "    </tr>\n",
       "  </thead>\n",
       "  <tbody>\n",
       "    <tr>\n",
       "      <th>count</th>\n",
       "      <td>20790.000000</td>\n",
       "      <td>20790.000000</td>\n",
       "      <td>20790.000000</td>\n",
       "      <td>20790.000000</td>\n",
       "      <td>20790.000000</td>\n",
       "      <td>20790.000000</td>\n",
       "      <td>20790.000000</td>\n",
       "    </tr>\n",
       "    <tr>\n",
       "      <th>mean</th>\n",
       "      <td>16335.645551</td>\n",
       "      <td>2.697612</td>\n",
       "      <td>0.577537</td>\n",
       "      <td>0.390717</td>\n",
       "      <td>0.329137</td>\n",
       "      <td>3.016524</td>\n",
       "      <td>0.244012</td>\n",
       "    </tr>\n",
       "    <tr>\n",
       "      <th>std</th>\n",
       "      <td>9431.237016</td>\n",
       "      <td>0.986142</td>\n",
       "      <td>0.493963</td>\n",
       "      <td>0.487923</td>\n",
       "      <td>0.328607</td>\n",
       "      <td>0.998977</td>\n",
       "      <td>0.429510</td>\n",
       "    </tr>\n",
       "    <tr>\n",
       "      <th>min</th>\n",
       "      <td>3.000000</td>\n",
       "      <td>0.000000</td>\n",
       "      <td>0.000000</td>\n",
       "      <td>0.000000</td>\n",
       "      <td>0.000013</td>\n",
       "      <td>0.095885</td>\n",
       "      <td>0.000000</td>\n",
       "    </tr>\n",
       "    <tr>\n",
       "      <th>25%</th>\n",
       "      <td>8167.000000</td>\n",
       "      <td>2.036946</td>\n",
       "      <td>0.000000</td>\n",
       "      <td>0.000000</td>\n",
       "      <td>0.094317</td>\n",
       "      <td>2.295748</td>\n",
       "      <td>0.000000</td>\n",
       "    </tr>\n",
       "    <tr>\n",
       "      <th>50%</th>\n",
       "      <td>16337.000000</td>\n",
       "      <td>2.851657</td>\n",
       "      <td>1.000000</td>\n",
       "      <td>0.000000</td>\n",
       "      <td>0.225596</td>\n",
       "      <td>3.094117</td>\n",
       "      <td>0.000000</td>\n",
       "    </tr>\n",
       "    <tr>\n",
       "      <th>75%</th>\n",
       "      <td>24500.750000</td>\n",
       "      <td>3.328521</td>\n",
       "      <td>1.000000</td>\n",
       "      <td>1.000000</td>\n",
       "      <td>0.455361</td>\n",
       "      <td>3.801540</td>\n",
       "      <td>0.000000</td>\n",
       "    </tr>\n",
       "    <tr>\n",
       "      <th>max</th>\n",
       "      <td>32670.000000</td>\n",
       "      <td>5.000000</td>\n",
       "      <td>1.000000</td>\n",
       "      <td>1.000000</td>\n",
       "      <td>3.132477</td>\n",
       "      <td>4.991039</td>\n",
       "      <td>1.000000</td>\n",
       "    </tr>\n",
       "  </tbody>\n",
       "</table>\n",
       "</div>"
      ],
      "text/plain": [
       "                 id  median_relevance  click_success  purch_success  \\\n",
       "count  20790.000000      20790.000000   20790.000000   20790.000000   \n",
       "mean   16335.645551          2.697612       0.577537       0.390717   \n",
       "std     9431.237016          0.986142       0.493963       0.487923   \n",
       "min        3.000000          0.000000       0.000000       0.000000   \n",
       "25%     8167.000000          2.036946       0.000000       0.000000   \n",
       "50%    16337.000000          2.851657       1.000000       0.000000   \n",
       "75%    24500.750000          3.328521       1.000000       1.000000   \n",
       "max    32670.000000          5.000000       1.000000       1.000000   \n",
       "\n",
       "       relevance_variance  product_rating  prod_desc_null  \n",
       "count        20790.000000    20790.000000    20790.000000  \n",
       "mean             0.329137        3.016524        0.244012  \n",
       "std              0.328607        0.998977        0.429510  \n",
       "min              0.000013        0.095885        0.000000  \n",
       "25%              0.094317        2.295748        0.000000  \n",
       "50%              0.225596        3.094117        0.000000  \n",
       "75%              0.455361        3.801540        0.000000  \n",
       "max              3.132477        4.991039        1.000000  "
      ]
     },
     "execution_count": 77,
     "metadata": {},
     "output_type": "execute_result"
    }
   ],
   "source": [
    "df.describe()"
   ]
  },
  {
   "cell_type": "markdown",
   "metadata": {},
   "source": [
    "# scatterplots/hist\n"
   ]
  },
  {
   "cell_type": "code",
   "execution_count": null,
   "metadata": {},
   "outputs": [],
   "source": [
    "# all plots under df.plot"
   ]
  },
  {
   "cell_type": "code",
   "execution_count": 8,
   "metadata": {},
   "outputs": [
    {
     "data": {
      "text/plain": [
       "<matplotlib.axes._subplots.AxesSubplot at 0x7fc5c86067d0>"
      ]
     },
     "execution_count": 8,
     "metadata": {},
     "output_type": "execute_result"
    },
    {
     "data": {
      "image/png": "[encoded data removed]",
      "text/plain": [
       "<Figure size 432x288 with 1 Axes>"
      ]
     },
     "metadata": {
      "needs_background": "light"
     },
     "output_type": "display_data"
    }
   ],
   "source": [
    "df.plot.scatter('median_relevance', 'product_rating')"
   ]
  },
  {
   "cell_type": "code",
   "execution_count": 16,
   "metadata": {},
   "outputs": [
    {
     "data": {
      "text/plain": [
       "<matplotlib.axes._subplots.AxesSubplot at 0x7fc609daf250>"
      ]
     },
     "execution_count": 16,
     "metadata": {},
     "output_type": "execute_result"
    },
    {
     "data": {
      "image/png": "[encoded data removed]",
      "text/plain": [
       "<Figure size 432x288 with 2 Axes>"
      ]
     },
     "metadata": {
      "needs_background": "light"
     },
     "output_type": "display_data"
    }
   ],
   "source": [
    "df.plot.scatter('median_relevance', 'product_rating', c='purch_success', colormap='coolwarm')"
   ]
  },
  {
   "cell_type": "code",
   "execution_count": 26,
   "metadata": {},
   "outputs": [
    {
     "data": {
      "image/png": "[encoded data removed]",
      "text/plain": [
       "<Figure size 432x288 with 2 Axes>"
      ]
     },
     "metadata": {
      "needs_background": "light"
     },
     "output_type": "display_data"
    }
   ],
   "source": [
    "fig, ax = plt.subplots()\n",
    "ax = df.plot.scatter('median_relevance', 'product_rating', c='purch_success', colormap='coolwarm', ax=ax)\n",
    "ax.set_xlabel(\"median_relevance\")\n",
    "plt.show()\n",
    "\n",
    "\n",
    "# ax.set_xlabel('median_relevance')\n",
    "# plt.show()"
   ]
  },
  {
   "cell_type": "code",
   "execution_count": 34,
   "metadata": {},
   "outputs": [
    {
     "data": {
      "text/plain": [
       "array([[<matplotlib.axes._subplots.AxesSubplot object at 0x7fc5d02d1350>,\n",
       "        <matplotlib.axes._subplots.AxesSubplot object at 0x7fc5c88c9b50>],\n",
       "       [<matplotlib.axes._subplots.AxesSubplot object at 0x7fc609da0350>,\n",
       "        <matplotlib.axes._subplots.AxesSubplot object at 0x7fc5d066fbd0>],\n",
       "       [<matplotlib.axes._subplots.AxesSubplot object at 0x7fc5c879a410>,\n",
       "        <matplotlib.axes._subplots.AxesSubplot object at 0x7fc5d8a93c10>]],\n",
       "      dtype=object)"
      ]
     },
     "execution_count": 34,
     "metadata": {},
     "output_type": "execute_result"
    },
    {
     "data": {
      "image/png": "[encoded data removed]",
      "text/plain": [
       "<Figure size 864x576 with 6 Axes>"
      ]
     },
     "metadata": {
      "needs_background": "light"
     },
     "output_type": "display_data"
    }
   ],
   "source": [
    "# histogram of ratings\n",
    "# iterable list of cols\n",
    "df.hist(figsize=(12,8))\n",
    "# df.groupby('product_rating').hist()"
   ]
  },
  {
   "cell_type": "code",
   "execution_count": 48,
   "metadata": {},
   "outputs": [
    {
     "data": {
      "text/plain": [
       "array([[<matplotlib.axes._subplots.AxesSubplot object at 0x7fc60a4de690>,\n",
       "        <matplotlib.axes._subplots.AxesSubplot object at 0x7fc60a505a90>]],\n",
       "      dtype=object)"
      ]
     },
     "execution_count": 48,
     "metadata": {},
     "output_type": "execute_result"
    },
    {
     "data": {
      "image/png": "[encoded data removed]",
      "text/plain": [
       "<Figure size 864x576 with 2 Axes>"
      ]
     },
     "metadata": {
      "needs_background": "light"
     },
     "output_type": "display_data"
    }
   ],
   "source": [
    "df[['click_success', 'id']].hist(figsize=(12,8))"
   ]
  },
  {
   "cell_type": "code",
   "execution_count": 49,
   "metadata": {},
   "outputs": [],
   "source": [
    "# two plots\n",
    "# fig = plt.figure(figsize=(12,6)) ax1 = fig.add_subplot(121)\n",
    "# ax1.set_title('Model 1 - Ride Distance Between Failures')\n",
    "# df_since_last_failure[(df_since_last_failure['bird_model_id'] == 1)]['distance_between_failures'].hist(bins = 10,ax=ax1)\n",
    "# ax2 = fig.add_subplot(122)\n",
    "# ax2.set_title('Model 2 - Ride Distance Between Failures') df_since_last_failure[(df_since_last_failure['bird_model_id'] == →2)]['distance_between_failures'].hist(bins = 10,ax=ax2)\n",
    "# plt.show()"
   ]
  },
  {
   "cell_type": "markdown",
   "metadata": {},
   "source": [
    "# correlations"
   ]
  },
  {
   "cell_type": "code",
   "execution_count": 37,
   "metadata": {},
   "outputs": [
    {
     "data": {
      "text/plain": [
       "purch_success         1.000000\n",
       "click_success         0.684897\n",
       "median_relevance      0.433851\n",
       "product_rating       -0.003292\n",
       "id                   -0.005817\n",
       "relevance_variance   -0.016557\n",
       "Name: purch_success, dtype: float64"
      ]
     },
     "execution_count": 37,
     "metadata": {},
     "output_type": "execute_result"
    }
   ],
   "source": [
    "df.corr().purch_success.sort_values(ascending = False)"
   ]
  },
  {
   "cell_type": "markdown",
   "metadata": {},
   "source": [
    "# feature eng"
   ]
  },
  {
   "cell_type": "code",
   "execution_count": 45,
   "metadata": {},
   "outputs": [],
   "source": [
    "# if time, explore more combinations, dummy, derived columns"
   ]
  },
  {
   "cell_type": "code",
   "execution_count": null,
   "metadata": {},
   "outputs": [],
   "source": []
  },
  {
   "cell_type": "code",
   "execution_count": null,
   "metadata": {},
   "outputs": [],
   "source": []
  },
  {
   "cell_type": "markdown",
   "metadata": {},
   "source": [
    "\n",
    "\n",
    "# model basics"
   ]
  },
  {
   "cell_type": "code",
   "execution_count": 46,
   "metadata": {},
   "outputs": [],
   "source": []
  },
  {
   "cell_type": "code",
   "execution_count": 120,
   "metadata": {},
   "outputs": [],
   "source": [
    "from sklearn.model_selection import train_test_split\n",
    "from sklearn.linear_model import LogisticRegression, LogisticRegressionCV\n",
    "from sklearn.model_selection import StratifiedKFold\n",
    "from sklearn.metrics import r2_score, mean_squared_error, confusion_matrix, accuracy_score, precision_score, recall_score, roc_auc_score \n",
    "from sklearn import preprocessing, metrics\n",
    "# from sklearn.pipeline import make_pipeline\n",
    "import itertools"
   ]
  },
  {
   "cell_type": "code",
   "execution_count": 50,
   "metadata": {},
   "outputs": [],
   "source": [
    "# baseline descriptive stats\n",
    "# baseline converison/avg\n",
    "# train test split\n",
    "# "
   ]
  },
  {
   "cell_type": "code",
   "execution_count": 70,
   "metadata": {},
   "outputs": [
    {
     "name": "stdout",
     "output_type": "stream",
     "text": [
      "39.07% conversion rate across 20790 searches.\n"
     ]
    }
   ],
   "source": [
    "# baseline\n",
    "conv = 100.0* len(df[df['purch_success'] == 1]) / len(df)\n",
    "val = \"{0:.2f}% conversion rate across {1} searches.\".format(conv, len(df))\n",
    "print(val)"
   ]
  },
  {
   "cell_type": "markdown",
   "metadata": {},
   "source": [
    "# feature encoding"
   ]
  },
  {
   "cell_type": "code",
   "execution_count": 106,
   "metadata": {},
   "outputs": [],
   "source": [
    "# quick version ignoring onehotencoder, dict options\n",
    "# Categorical boolean mask\n",
    "categorical_feature_mask = df.dtypes==object\n",
    "# filter categorical columns using mask and turn it into a list\n",
    "categorical_cols = df.columns[categorical_feature_mask].tolist()"
   ]
  },
  {
   "cell_type": "code",
   "execution_count": 107,
   "metadata": {},
   "outputs": [
    {
     "data": {
      "text/plain": [
       "['query', 'product_title', 'product_description']"
      ]
     },
     "execution_count": 107,
     "metadata": {},
     "output_type": "execute_result"
    }
   ],
   "source": [
    "categorical_cols"
   ]
  },
  {
   "cell_type": "code",
   "execution_count": 108,
   "metadata": {},
   "outputs": [],
   "source": [
    "categorical_cols.remove('product_description')"
   ]
  },
  {
   "cell_type": "code",
   "execution_count": 109,
   "metadata": {},
   "outputs": [],
   "source": [
    "# import labelencoder\n",
    "from sklearn.preprocessing import LabelEncoder\n",
    "# instantiate labelencoder object\n",
    "le = LabelEncoder()"
   ]
  },
  {
   "cell_type": "code",
   "execution_count": 110,
   "metadata": {},
   "outputs": [
    {
     "data": {
      "text/html": [
       "<div>\n",
       "<style scoped>\n",
       "    .dataframe tbody tr th:only-of-type {\n",
       "        vertical-align: middle;\n",
       "    }\n",
       "\n",
       "    .dataframe tbody tr th {\n",
       "        vertical-align: top;\n",
       "    }\n",
       "\n",
       "    .dataframe thead th {\n",
       "        text-align: right;\n",
       "    }\n",
       "</style>\n",
       "<table border=\"1\" class=\"dataframe\">\n",
       "  <thead>\n",
       "    <tr style=\"text-align: right;\">\n",
       "      <th></th>\n",
       "      <th>query</th>\n",
       "      <th>product_title</th>\n",
       "    </tr>\n",
       "  </thead>\n",
       "  <tbody>\n",
       "    <tr>\n",
       "      <th>0</th>\n",
       "      <td>170</td>\n",
       "      <td>17795</td>\n",
       "    </tr>\n",
       "    <tr>\n",
       "      <th>1</th>\n",
       "      <td>127</td>\n",
       "      <td>18308</td>\n",
       "    </tr>\n",
       "    <tr>\n",
       "      <th>2</th>\n",
       "      <td>151</td>\n",
       "      <td>12191</td>\n",
       "    </tr>\n",
       "    <tr>\n",
       "      <th>3</th>\n",
       "      <td>28</td>\n",
       "      <td>7303</td>\n",
       "    </tr>\n",
       "    <tr>\n",
       "      <th>4</th>\n",
       "      <td>192</td>\n",
       "      <td>19174</td>\n",
       "    </tr>\n",
       "    <tr>\n",
       "      <th>5</th>\n",
       "      <td>167</td>\n",
       "      <td>3631</td>\n",
       "    </tr>\n",
       "    <tr>\n",
       "      <th>6</th>\n",
       "      <td>152</td>\n",
       "      <td>12168</td>\n",
       "    </tr>\n",
       "    <tr>\n",
       "      <th>7</th>\n",
       "      <td>239</td>\n",
       "      <td>9578</td>\n",
       "    </tr>\n",
       "    <tr>\n",
       "      <th>8</th>\n",
       "      <td>223</td>\n",
       "      <td>1582</td>\n",
       "    </tr>\n",
       "    <tr>\n",
       "      <th>9</th>\n",
       "      <td>199</td>\n",
       "      <td>5822</td>\n",
       "    </tr>\n",
       "  </tbody>\n",
       "</table>\n",
       "</div>"
      ],
      "text/plain": [
       "   query  product_title\n",
       "0    170          17795\n",
       "1    127          18308\n",
       "2    151          12191\n",
       "3     28           7303\n",
       "4    192          19174\n",
       "5    167           3631\n",
       "6    152          12168\n",
       "7    239           9578\n",
       "8    223           1582\n",
       "9    199           5822"
      ]
     },
     "execution_count": 110,
     "metadata": {},
     "output_type": "execute_result"
    }
   ],
   "source": [
    "# apply le on categorical feature columns\n",
    "df[categorical_cols] = df[categorical_cols].apply(lambda col: le.fit_transform(col))\n",
    "df[categorical_cols].head(10)"
   ]
  },
  {
   "cell_type": "markdown",
   "metadata": {},
   "source": [
    "# fit model"
   ]
  },
  {
   "cell_type": "code",
   "execution_count": 87,
   "metadata": {},
   "outputs": [
    {
     "data": {
      "text/plain": [
       "array(['id', 'query', 'product_title', 'product_description',\n",
       "       'median_relevance', 'click_success', 'purch_success',\n",
       "       'relevance_variance', 'product_rating'], dtype=object)"
      ]
     },
     "execution_count": 87,
     "metadata": {},
     "output_type": "execute_result"
    }
   ],
   "source": [
    "df.columns.values"
   ]
  },
  {
   "cell_type": "code",
   "execution_count": 92,
   "metadata": {},
   "outputs": [],
   "source": [
    "cols = list(df.columns.values)"
   ]
  },
  {
   "cell_type": "code",
   "execution_count": 93,
   "metadata": {},
   "outputs": [
    {
     "data": {
      "text/plain": [
       "['id',\n",
       " 'query',\n",
       " 'product_title',\n",
       " 'product_description',\n",
       " 'median_relevance',\n",
       " 'click_success',\n",
       " 'purch_success',\n",
       " 'relevance_variance',\n",
       " 'product_rating']"
      ]
     },
     "execution_count": 93,
     "metadata": {},
     "output_type": "execute_result"
    }
   ],
   "source": [
    "cols"
   ]
  },
  {
   "cell_type": "code",
   "execution_count": 95,
   "metadata": {},
   "outputs": [],
   "source": [
    "cols.remove('purch_success')\n",
    "cols.remove('product_description')"
   ]
  },
  {
   "cell_type": "code",
   "execution_count": 96,
   "metadata": {},
   "outputs": [
    {
     "data": {
      "text/plain": [
       "['id',\n",
       " 'query',\n",
       " 'product_title',\n",
       " 'median_relevance',\n",
       " 'click_success',\n",
       " 'relevance_variance',\n",
       " 'product_rating']"
      ]
     },
     "execution_count": 96,
     "metadata": {},
     "output_type": "execute_result"
    }
   ],
   "source": [
    "cols"
   ]
  },
  {
   "cell_type": "code",
   "execution_count": 97,
   "metadata": {},
   "outputs": [],
   "source": [
    "features = cols"
   ]
  },
  {
   "cell_type": "code",
   "execution_count": 98,
   "metadata": {},
   "outputs": [],
   "source": [
    "y = df['purch_success']"
   ]
  },
  {
   "cell_type": "code",
   "execution_count": 99,
   "metadata": {},
   "outputs": [],
   "source": [
    "X = df[features]"
   ]
  },
  {
   "cell_type": "code",
   "execution_count": 100,
   "metadata": {},
   "outputs": [],
   "source": [
    "X_train, X_test, y_train, y_test = train_test_split(X, y, test_size=0.3, random_state=0)"
   ]
  },
  {
   "cell_type": "code",
   "execution_count": 101,
   "metadata": {},
   "outputs": [
    {
     "data": {
      "text/plain": [
       "20714    1\n",
       "334      1\n",
       "2006     0\n",
       "6073     0\n",
       "3674     1\n",
       "        ..\n",
       "13123    0\n",
       "19648    0\n",
       "9845     0\n",
       "10799    1\n",
       "2732     1\n",
       "Name: purch_success, Length: 14553, dtype: int64"
      ]
     },
     "execution_count": 101,
     "metadata": {},
     "output_type": "execute_result"
    }
   ],
   "source": [
    "y_train"
   ]
  },
  {
   "cell_type": "code",
   "execution_count": 102,
   "metadata": {},
   "outputs": [
    {
     "data": {
      "text/plain": [
       "LogisticRegressionCV(Cs=10, class_weight=None,\n",
       "                     cv=StratifiedKFold(n_splits=5, random_state=27, shuffle=True),\n",
       "                     dual=False, fit_intercept=True, intercept_scaling=1.0,\n",
       "                     l1_ratios=None, max_iter=100000, multi_class='auto',\n",
       "                     n_jobs=4, penalty='l2', random_state=0, refit=True,\n",
       "                     scoring='recall', solver='liblinear', tol=0.0001,\n",
       "                     verbose=0)"
      ]
     },
     "execution_count": 102,
     "metadata": {},
     "output_type": "execute_result"
    }
   ],
   "source": [
    "kf = StratifiedKFold(n_splits=5, shuffle=True, random_state=27)\n",
    "\n",
    "LRsearchCV = LogisticRegressionCV(\n",
    "#   penalty='l1'\n",
    "    penalty='l2'\n",
    "#    ,scoring='accuracy'\n",
    "    ,scoring='recall' #recall because we want to capture failures, low cost of false positive\n",
    "    ,cv=kf\n",
    "    ,n_jobs=4 \n",
    "    ,random_state=0 \n",
    "    ,max_iter=100000 \n",
    "    ,fit_intercept=True \n",
    "    ,solver='liblinear'\n",
    ")\n",
    "LRsearchCV.fit(X_train,y_train)"
   ]
  },
  {
   "cell_type": "markdown",
   "metadata": {},
   "source": [
    "# evaluate model"
   ]
  },
  {
   "cell_type": "code",
   "execution_count": 114,
   "metadata": {},
   "outputs": [],
   "source": [
    "def plot_confusion_matrix(cm, classes, normalize=False, title='Confusion matrix', cmap=plt.cm.Blues):\n",
    "    \"\"\"\n",
    "    This function prints and plots the confusion matrix. Normalization can be applied by setting `normalize=True`. \n",
    "    \"\"\"\n",
    "    if normalize:\n",
    "        cm = cm.astype('float') / cm.sum(axis=1)[:, np.newaxis]\n",
    "        print(\"Normalized confusion matrix\") \n",
    "    else:\n",
    "        print('Confusion matrix, without normalization')\n",
    "\n",
    "    print(cm)\n",
    "\n",
    "    plt.imshow(cm, interpolation='nearest', cmap=cmap)\n",
    "    plt.title(title)\n",
    "    plt.colorbar()\n",
    "    tick_marks = np.arange(len(classes))\n",
    "    plt.xticks(tick_marks, classes, rotation=45)\n",
    "    plt.yticks(tick_marks, classes)\n",
    "\n",
    "    fmt = '.3f' if normalize else 'd'\n",
    "    thresh = cm.max() / 2.\n",
    "    for i, j in itertools.product(range(cm.shape[0]), range(cm.shape[1])):\n",
    "        plt.text(j, i, format(cm[i, j], fmt), horizontalalignment=\"center\", color=\"white\" if cm[i, j] > thresh else \"black\")\n",
    "    plt.tight_layout()\n",
    "    plt.ylabel('True label')\n",
    "    plt.xlabel('Predicted label')\n",
    "\n"
   ]
  },
  {
   "cell_type": "code",
   "execution_count": 121,
   "metadata": {},
   "outputs": [
    {
     "name": "stdout",
     "output_type": "stream",
     "text": [
      "Confusion matrix, without normalization\n",
      "[[2654 1152]\n",
      " [  22 2409]]\n"
     ]
    },
    {
     "data": {
      "image/png": "[encoded data removed]",
      "text/plain": [
       "<Figure size 432x288 with 2 Axes>"
      ]
     },
     "metadata": {
      "needs_background": "light"
     },
     "output_type": "display_data"
    }
   ],
   "source": [
    "predicted = LRsearchCV.predict(X_test)\n",
    "cnf_matrix = confusion_matrix(y_test, predicted)\n",
    "\n",
    "np.set_printoptions(precision=2)\n",
    "class_names = ['No', 'Yes']\n",
    "plt.figure()\n",
    "plot_confusion_matrix(cnf_matrix, classes=class_names,\n",
    "                      title='Confusion matrix, without normalization')\n",
    "\n",
    "plt.show()"
   ]
  },
  {
   "cell_type": "code",
   "execution_count": 125,
   "metadata": {},
   "outputs": [
    {
     "name": "stdout",
     "output_type": "stream",
     "text": [
      "Accuracy (Test):\t0.8118\n",
      "Precision (Test):\t0.6765\n",
      "Recall (Test):\t\t0.991\n",
      "AUC Score (Test):\t0.844135\n"
     ]
    }
   ],
   "source": [
    "print(\"Accuracy (Test):\\t{0:.4g}\".format(accuracy_score(y_test, predicted))) \n",
    "print(\"Precision (Test):\\t{0:.4g}\".format(precision_score(y_test, predicted))) \n",
    "print(\"Recall (Test):\\t\\t{0:.4g}\".format(recall_score(y_test, predicted))) \n",
    "print(\"AUC Score (Test):\\t{0:f}\".format(roc_auc_score(y_test, predicted)))"
   ]
  },
  {
   "cell_type": "code",
   "execution_count": null,
   "metadata": {},
   "outputs": [],
   "source": []
  }
 ],
 "metadata": {
  "kernelspec": {
   "display_name": "Python 3",
   "language": "python",
   "name": "python3"
  },
  "language_info": {
   "codemirror_mode": {
    "name": "ipython",
    "version": 3
   },
   "file_extension": ".py",
   "mimetype": "text/x-python",
   "name": "python",
   "nbconvert_exporter": "python",
   "pygments_lexer": "ipython3",
   "version": "3.7.6"
  }
 },
 "nbformat": 4,
 "nbformat_minor": 4
}
